{
 "cells": [
  {
   "cell_type": "markdown",
   "id": "fd5ad170",
   "metadata": {},
   "source": [
    "# Visualisation et la Recherche d'Images OT Tutoriel\n",
    "\n",
    "**Tutoriel:** Ce tutoriel couvre les techniques de recherche et d'affichage d'images satellitaires de RADARSAT-1 et MCR avec l'API REST SGDOT.<br>\n",
    "**Mission et instrument:** Mission de RADARSAT-1 et de la Constellation RADARSAT (MCR)<br>\n",
    "**Objectif astronomique:** Observation de la Terre<br>\n",
    "**Données:** Imagerie satellitaire de SGDOT<br>\n",
    "**Outils primaires:** ipywidgets, ipyleaflet, SGDOT REST API (RAPI)<br>\n",
    "**Système minimum nécessaire:** Minimum 4 Go de RAM<br>\n",
    "**Niveau du tutoriel:** Intermédiaire<br> \n",
    "\n",
    "### Imports\n",
    "\n",
    "- [SGDOT RAPI](https://py-eodms-rapi.readthedocs.io/en/latest/search-rapi.html):  Un client REST API pour créer des requêtes de recherche pour SGDOT.\n",
    "- [ipyleaflet](https://ipyleaflet.readthedocs.io/en/latest/):Une bibliothèque pour créer des cartes interactives dans Jupyter Notebooks, basée sur la populaire bibliothèque JavaScript Leaflet. \n",
    "- [ipywidgets](https://ipywidgets.readthedocs.io/en/7.7.0/): Une bibliothèque pour la création de boutons et de widgets interactifs dans Jupyter Notebooks. \n",
    "- [Pandas](https://pandas.pydata.org/): Une bibliothèque populaire d'analyse et de manipulation de données.\n",
    "\n",
    "## Informations générales\n",
    "\n",
    "RADARSAT-1 a permis au Canada et au monde de bénéficier d'une plateforme avancée de radar à synthèse d'ouverture (SAR) capable d'acquérir des images de la Terre à travers diverses conditions. Ce notamment inclus les conditions de couverture nuageuse, de fumée, de brume, de jour et de nuit. Cette imagerie satellitaire performante s'est avérée précieuse pour de nombreuses applications, notamment la surveillance de l'environnement, l'observation des glaces, l'agriculture, et encore plus! Ces informations se sont également avérées utiles dans la gestion des catastrophes telles que les inondations, les tremblements de terre, les feux de forêt et même les déversements de pétrole.<br>\n",
    "\n",
    "La mission Constellation RADARSAT (RCM) était la prochaine génération du programme RADARSAT, offrant une qualité, une quantité et une couverture améliorées de 90 % de la surface de la Terre. Ce résultat a été obtenu grâce à trois satellites régulièrement espacés sur la même altitude orbitale de 600 km.<br>\n",
    "\n",
    "Comme on s'attend à ce que MCR prenne environ 250 000 images par année et que RADARSAT-1 capte plus de 710 000 images accessibles au public au cours de sa durée de vie, un solide système de gestion des données est nécessaire pour distribuer ces données. Ce service est fourni par le Système de gestion des données d'observation de la Terre (SGDOT) géré par Ressources naturelles Canada (RNCan). Ce service offre la possibilité de rechercher et de télécharger une variété de produits d'imagerie. Ce tutoriel vise à utiliser ce service par le biais de l'API REST qui l'accompagne afin de rechercher et d'afficher l'imagerie satellitaire de RARDARSAT-1 et de MCR sur une carte interactive.<br><br>\n",
    "\n",
    "## Création et initialisation du compte SGDOT\n",
    "\n",
    "Création et initialisation du compte SGDOT\n",
    "Pour utiliser le RAPI SGDOT, un compte est nécessaire. Vous pouvez le faire en suivant ce [lien](https://www.eodms-sgdot.nrcan-rncan.gc.ca/index-fr.html) et en sélectionnant \"register\". Une fois qu'un compte a été créé, veuillez remplacer votre nom d'utilisateur et votre mot de passe dans le fichier d'informations d'identification associé à ce tutoriel.\n"
   ]
  },
  {
   "cell_type": "code",
   "execution_count": 1,
   "id": "342a19fa",
   "metadata": {},
   "outputs": [],
   "source": [
    "from eodms_rapi import EODMSRAPI\n",
    "\n",
    "# external file for credentials\n",
    "file = open('credentials.txt')\n",
    "temp = file.read().splitlines()\n",
    "\n",
    "rapi = EODMSRAPI(temp[0], temp[1])"
   ]
  },
  {
   "cell_type": "markdown",
   "id": "701bd464",
   "metadata": {},
   "source": [
    "### Modèle de recherche EODMS\n",
    "\n",
    "SGDOT propose plusieurs outils différents pour accéder à ses services, notamment une [interface de ligne de commande (CLI)](https://github.com/eodms-sgdot/eodms-cli), une [interface de navigateur web](https://www.eodms-sgdot.nrcan-rncan.gc.ca/index-fr.html) et le [RAPI (compatible avec python)](https://github.com/eodms-sgdot/py-eodms-rapi). À l'aide de cette bibliothèque, nous développerons la structure générale de la création de requêtes de recherche pour SGDOT."
   ]
  },
  {
   "cell_type": "code",
   "execution_count": 2,
   "id": "b0cdd9ef",
   "metadata": {},
   "outputs": [],
   "source": [
    "def eodms_search(user, password, collection, features, filters = {}, dates = [], max_results = 1): \n",
    "    \n",
    "    # using a username and password, initializes a connection to EODMS\n",
    "    rapi = EODMSRAPI(user, password)\n",
    "    \n",
    "    # available options for EDOMS search\n",
    "    rapi.search(collection, filters = filters, features = features, \n",
    "                dates = dates, max_results = max_results)\n",
    "    \n",
    "    raw_res = rapi.get_results('full')\n",
    "    results = raw_res\n",
    "    \n",
    "    \n",
    "    return results"
   ]
  },
  {
   "cell_type": "markdown",
   "id": "1d451018",
   "metadata": {},
   "source": [
    "### Liste de filtres SGDOT\n",
    "\n",
    "Comme on peut le voir ci-dessus, plusieurs paramètres peuvent être spécifiés lors de l'exécution d'une recherche avec SGDOT. Il s'agit de critères de recherche comme la date, les caractéristiques géométriques, les filtres de données et la collection. Au cours de ce tutoriel, nous allons couvrir chacun de ces filtres en détail et développer des widgets associés par l'intermédiaire de la bibliothèque ipywidgets pour interagir avec ces filtres. \n",
    "\n",
    "#### Collection SGDOT\n",
    "\n",
    "Tout commence par le paramètre de collection. Ce paramètre spécifie la mission satellite ou les photos aériennes à rechercher. La liste des collections disponibles peut être déterminée à l'aide de la commande suivante."
   ]
  },
  {
   "cell_type": "code",
   "execution_count": 3,
   "id": "2dd9ef52",
   "metadata": {},
   "outputs": [
    {
     "name": "stdout",
     "output_type": "stream",
     "text": [
      "| EODMSRAPI | 2022-12-16 01:56:34 | Getting Collection information, please wait...\n",
      "['NAPL', 'SGBAirPhotos', 'RCMImageProducts', 'Radarsat1', 'Radarsat1RawProducts', 'Radarsat2RawProducts']\n"
     ]
    }
   ],
   "source": [
    "print(rapi.get_collections(as_list=True))"
   ]
  },
  {
   "cell_type": "markdown",
   "id": "b4dad612",
   "metadata": {},
   "source": [
    "Comme nous l'avons décrit au début du tutoriel, nous utiliserons les produits d'images RADARSAT-1 et RCM. Plus d'informations sur la [Photothèque nationale de l'air (PNA)](https://www.rncan.gc.ca/cartes-outils-et-publications/imagerie-satellitaire-et-photos-aeriennes/photos-aeriennes/phototheque-nationale-lair/9266) et [RADARSAT-2](https://www.asc-csa.gc.ca/fra/satellites/radarsat2/) peuvent être trouvés avec leurs liens respectifs.<br> \n",
    "\n",
    "Puisque nous avons une liste d'options disponibles et que nous voulons que les utilisateurs ne sélectionnent qu'une seule option, un bouton radio est un [bon choix](https://designsystem.digital.gov/components/radio-buttons/) pour ce widget particulier. Il peut être créé de la manière suivante.\n"
   ]
  },
  {
   "cell_type": "code",
   "execution_count": 4,
   "id": "79e47eb5",
   "metadata": {},
   "outputs": [
    {
     "data": {
      "application/vnd.jupyter.widget-view+json": {
       "model_id": "a2373180e69b4409b879bb41579c7111",
       "version_major": 2,
       "version_minor": 0
      },
      "text/plain": [
       "RadioButtons(description='Collection:', options=('Radarsat-1', 'RCM Images', 'Radarsat-1 & RCM'), value='Radar…"
      ]
     },
     "metadata": {},
     "output_type": "display_data"
    }
   ],
   "source": [
    "import ipywidgets as widgets\n",
    "\n",
    "# creates an instance of a radio button through the ipywidgets library\n",
    "search_collection = widgets.RadioButtons(\n",
    "    options=['Radarsat-1', 'RCM Images', 'Radarsat-1 & RCM'],\n",
    "    description='Collection:',\n",
    "    disabled=False\n",
    ")\n",
    "\n",
    "search_collection"
   ]
  },
  {
   "cell_type": "markdown",
   "id": "5e8b0421",
   "metadata": {},
   "source": [
    "Les widgets de la bibliothèque ipywidget possèdent de nombreux attributs et méthodes utiles. Un attribut utile dans notre contexte est la valeur du widget, à laquelle on peut accéder comme suit. "
   ]
  },
  {
   "cell_type": "code",
   "execution_count": 5,
   "id": "89dd8356",
   "metadata": {},
   "outputs": [
    {
     "data": {
      "text/plain": [
       "'Radarsat-1'"
      ]
     },
     "execution_count": 5,
     "metadata": {},
     "output_type": "execute_result"
    }
   ],
   "source": [
    "search_collection.value"
   ]
  },
  {
   "cell_type": "markdown",
   "id": "8a6356cd",
   "metadata": {},
   "source": [
    "### Filtres de recherche SGDOT\n",
    "\n",
    "Ensuite, nous allons nous concentrer sur les filtres disponibles pour SGDOT. Ces filtres sont différents pour chaque collection, et spécifient la majorité des options disponibles lors de la recherche avec SGDOT. Ces options comprennent plusieurs filtres importants, notamment des éléments tels que le mode ou la configuration du senseur, le type de polarisation utilisé, la position des satellites, etc.<br>\n",
    "\n",
    "Nous pouvons générer une liste complète des filtres de recherche disponibles en utilisant la commande suivante. "
   ]
  },
  {
   "cell_type": "code",
   "execution_count": 6,
   "id": "c5ea1d32",
   "metadata": {
    "scrolled": true
   },
   "outputs": [
    {
     "name": "stdout",
     "output_type": "stream",
     "text": [
      "['Orbit Direction', 'Open Data', 'Client Order Number', 'Order Key', 'Product Format', 'Product Id', 'Product Orientation', 'Product Type', 'Sampled Pixel Spacing (Panchromatic)', 'Catalog Visibility Start', 'Collection Id', 'Creation Date', 'Loading Status', 'Owner Id', 'Public Good', 'Subcollection Id', 'Sequence Id', 'Start Date', 'Status', 'End Date', 'UUID', 'Processing Level', 'Look Orientation', 'Beam Id', 'Position', 'Dataset Id', 'Image Id', 'Incidence Angle', 'Absolute Orbit', 'Receive Polarization', 'Sensor Mode', 'Transmit Polarization', 'Incidence Angle (High)', 'Incidence Angle (Low)', 'Spatial Resolution', 'Footprint']\n"
     ]
    }
   ],
   "source": [
    "print(rapi.get_available_fields('Radarsat1', name_type='title')['search'])"
   ]
  },
  {
   "cell_type": "markdown",
   "id": "16b3b731",
   "metadata": {},
   "source": [
    "Pour voir les options disponibles pour un filtre particulier, nous pouvons générer les choix de champs disponibles en utilisant la commande suivante."
   ]
  },
  {
   "cell_type": "code",
   "execution_count": 7,
   "id": "56cb0895",
   "metadata": {
    "scrolled": true
   },
   "outputs": [
    {
     "name": "stdout",
     "output_type": "stream",
     "text": [
      "['Fine', 'High Incidence', 'Low Incidence', 'ScanSAR Narrow', 'ScanSAR Wide', 'Standard', 'Wide']\n"
     ]
    }
   ],
   "source": [
    "print(rapi.get_field_choices('Radarsat1', 'Sensor Mode'))"
   ]
  },
  {
   "cell_type": "markdown",
   "id": "3b9ef0d4",
   "metadata": {},
   "source": [
    "Maintenant que nous connaissons les filtres disponibles et leurs options, nous pouvons commencer à développer un ensemble de widgets pour interagir avec ces filtres. Cependant, comme nous ne voulons pas toujours que certains filtres soient toujours actifs, nous inclurons également un widget de sélection permettant de choisir quand un filtre donné est actif. Ceci peut être réalisé à l'aide de l'option [interactive](https://ipywidgets.readthedocs.io/en/7.7.0/examples/Using%20Interact.html) de la bibliothèque ipywidget. Cela nous permettra d'exécuter une fonction spécifique lorsqu'un widget donné est interagi.\n",
    "\n",
    "#### Filtres RADARSAT-1 sélectionnés \n",
    "Pour Radarsat-1, nous utiliserons les options Sensor Mode (mode capteur) et Transmit Polarization (polarisation de l'émetteur), les valeurs de leurs filtres étant sélectionnées dans la liste créée par la fonction ci-dessus. Nous utiliserons le widget descendante car il peut y avoir plusieurs options disponibles à sélectionner."
   ]
  },
  {
   "cell_type": "code",
   "execution_count": 8,
   "id": "31fbe5b2",
   "metadata": {},
   "outputs": [
    {
     "data": {
      "application/vnd.jupyter.widget-view+json": {
       "model_id": "25598e1f0b59404cbfb03c12dd9cd1a9",
       "version_major": 2,
       "version_minor": 0
      },
      "text/plain": [
       "GridspecLayout(children=(interactive(children=(Checkbox(value=False, description='Use Filter', indent=False), …"
      ]
     },
     "metadata": {},
     "output_type": "display_data"
    }
   ],
   "source": [
    "from ipywidgets import interactive, GridspecLayout\n",
    "\n",
    "#---- Beam Mode Widgets\n",
    "\n",
    "# creates an instance of a checkbox widget\n",
    "t1 = widgets.Checkbox(\n",
    "    value=False,\n",
    "    description='Use Filter',\n",
    "    disabled=False,\n",
    "    indent=False\n",
    ")\n",
    "\n",
    "# function to disable the dropdown widget containing filter options\n",
    "def rad_sensor_f(x):\n",
    "    rad_sensor_opt.disabled = not x\n",
    "\n",
    "# using the created widget & function, can pass through interactive to have function trigger on action \n",
    "rad_sensor_tog = interactive(rad_sensor_f, x = t1);\n",
    "\n",
    "# dropdown widget with available beam mode options \n",
    "rad_sensor_opt = widgets.Dropdown(\n",
    "    options=['Fine', 'High Incidence', 'Low Incidence', 'ScanSAR Narrow', 'ScanSAR Wide', 'Standard', 'Wide'],\n",
    "    description='Sensor Mode',\n",
    "    disabled=True\n",
    ")\n",
    "\n",
    "#---- Polarization Widgets (same processes as described above)\n",
    "\n",
    "t2 = widgets.Checkbox(\n",
    "    value=False,\n",
    "    description='Use Filter',\n",
    "    disabled=False,\n",
    "    indent=False\n",
    ")\n",
    "\n",
    "def rad_polar_f(x):\n",
    "    rad_polar_opt.disabled = not x\n",
    "    \n",
    "rad_polar_tog = interactive(rad_polar_f, x = t2);\n",
    "\n",
    "rad_polar_opt = widgets.Dropdown(\n",
    "    options=['H', 'H+V', 'V', 'V+H'],\n",
    "    description='Transmit Polarization',\n",
    "    disabled=True\n",
    ")\n",
    "\n",
    "\n",
    "#---- Combination of Widgets in a Grid Spacing\n",
    "\n",
    "radsat_filters = GridspecLayout(2, 2)\n",
    "radsat_filters[0,0] = rad_sensor_tog\n",
    "radsat_filters[0,1] = rad_sensor_opt\n",
    "radsat_filters[1,0] = rad_polar_tog\n",
    "radsat_filters[1,1] = rad_polar_opt\n",
    "\n",
    "radsat_filters"
   ]
  },
  {
   "cell_type": "markdown",
   "id": "8bdeb2ec",
   "metadata": {},
   "source": [
    "Nous allons répéter le même ordre d'opérations pour les filtres MCR disponibles. Cela commence par l'exploration des filtres MCR disponibles. "
   ]
  },
  {
   "cell_type": "code",
   "execution_count": 9,
   "id": "93c6e2ef",
   "metadata": {
    "scrolled": true
   },
   "outputs": [
    {
     "name": "stdout",
     "output_type": "stream",
     "text": [
      "Available Filters:\n",
      "['Orbit Data Source', 'Special Handling Required', 'Client Order Number', 'Order Key', 'Polarization', 'Product Id', 'Product Orientation', 'Product Type', 'Sampled Pixel Spacing (Panchromatic)', 'Collection Id', 'Loading Status', 'Open Data', 'Owner Id', 'Public Good', 'Subcollection Id', 'Sequence Id', 'Acquisition Start Date', 'Status', 'Acquisition End Date', 'UUID', 'Processing Level', 'Look Direction', 'Beam Id', 'Beam Mnemonic', 'Dataset Id', 'Downlink segment ID', 'Incidence Angle', 'Absolute Orbit', 'Orbit Direction', 'Relative Orbit', 'Beam Mode Type', 'Within Orbital Tube', 'Incidence Angle (High)', 'Incidence Angle (Low)', 'Spatial Resolution', 'Beam Mode Qualifier', 'Order Purpose', 'Product Format', 'LUT Applied', 'Creation Date', 'Processing Date', 'Footprint']\n",
      "\n",
      "Beam Mode Type Filter Options:\n",
      "['High Resolution 5m', 'Low Noise', 'Low Resolution 100m', 'Medium Resolution 16m', 'Medium Resolution 30m', 'Medium Resolution 50m', 'Quad-Polarization', 'Ship Detection', 'Spotlight', 'Very High Resolution 3m']\n"
     ]
    }
   ],
   "source": [
    "print('Available Filters:')\n",
    "print(rapi.get_available_fields('RCMImageProducts', name_type='title')['search'])\n",
    "print('\\nBeam Mode Type Filter Options:')\n",
    "print(rapi.get_field_choices('RCMImageProducts', 'Beam Mode Type'))"
   ]
  },
  {
   "cell_type": "markdown",
   "id": "7fe8d6fb",
   "metadata": {},
   "source": [
    "#### Filtres sélectionnés pour MCR \n",
    "\n",
    "Un ensemble similaire de filtres sera utilisé pour les requêtes MCR avec l'ajout du filtre Look Up Table (LUT). Ce filtre spécifie le mappage de couleurs pré-appliqué associé à une image satellite donnée. Les différentes LUT peuvent être très utiles lorsqu'on travaille avec des images satellites. Elles permettent de mettre en évidence certaines caractéristiques spectrales d'une image, par exemple en faisant apparaître la glace ou la végétation plus clairement sur une image. "
   ]
  },
  {
   "cell_type": "code",
   "execution_count": 10,
   "id": "3d6d11d9",
   "metadata": {},
   "outputs": [
    {
     "data": {
      "application/vnd.jupyter.widget-view+json": {
       "model_id": "ae9d371f0f2c411ba971a83e3218a23d",
       "version_major": 2,
       "version_minor": 0
      },
      "text/plain": [
       "GridspecLayout(children=(interactive(children=(Checkbox(value=False, description='Use Filter', indent=False), …"
      ]
     },
     "metadata": {},
     "output_type": "display_data"
    }
   ],
   "source": [
    "#---- Beam Mode Widgets\n",
    "\n",
    "t3 = widgets.Checkbox(\n",
    "    value=False,\n",
    "    description='Use Filter',\n",
    "    disabled=False,\n",
    "    indent=False\n",
    ")\n",
    "\n",
    "def rcm_beam_f(x):\n",
    "    rcm_beam_opt.disabled = not x\n",
    "    \n",
    "rcm_beam_tog = interactive(rcm_beam_f, x = t3);\n",
    "         \n",
    "rcm_beam_opt = widgets.Dropdown(\n",
    "    options=['High Resolution 5m', 'Low Noise', 'Low Resolution 100m', 'Medium Resolution 16m', 'Medium Resolution 30m',\\\n",
    "             'Medium Resolution 50m', 'Quad-Polarization', 'Ship Detection', 'Spotlight', 'Very High Resolution 3m'],\n",
    "    description='Beam Mode Type',\n",
    "    disabled = True\n",
    ")\n",
    "\n",
    "#---- Polarization Widgets\n",
    "\n",
    "t4 = widgets.Checkbox(\n",
    "    value=False,\n",
    "    description='Use Filter',\n",
    "    disabled=False,\n",
    "    indent=False\n",
    ")\n",
    "\n",
    "def rcm_polar_f(x):\n",
    "    rcm_polar_opt.disabled = not x\n",
    "    \n",
    "rcm_polar_tog = interactive(rcm_polar_f, x = t4);\n",
    "         \n",
    "rcm_polar_opt = widgets.Dropdown(\n",
    "    options=['CH CV', 'HH', 'HH HV', 'HH HV VH VV', 'HH VV', 'HV', 'VH', 'VH VV', 'VV'],\n",
    "    description='Polarization',\n",
    "    disabled = True\n",
    ")\n",
    "\n",
    "#---- Look Up Table Widgets \n",
    "\n",
    "t5 = widgets.Checkbox(\n",
    "    value=False,\n",
    "    description='Use Filter',\n",
    "    disabled=False,\n",
    "    indent=False\n",
    ")\n",
    "\n",
    "def rcm_lut_f(x):\n",
    "    rcm_lut_opt.disabled = not x\n",
    "    \n",
    "rcm_lut_tog = interactive(rcm_lut_f, x = t5);\n",
    "         \n",
    "rcm_lut_opt = widgets.Dropdown(\n",
    "    options=['Ice', 'Mixed', 'Point Target', 'Ship-1', 'Land', 'Constant-beta', 'Constant-gamma', 'Constant-sigma',\\\n",
    "             'Point Target-1', 'Point Target-2', 'Sea', 'Ship-2', 'Ship-3', 'Unity', 'Unity-beta', 'Unity-gamma', 'Unity-sigma'],\n",
    "    description='LUT Applied',\n",
    "    disabled = True\n",
    ")\n",
    "\n",
    "\n",
    "#---- Combination of Widgets in a Grid Spacing\n",
    "\n",
    "rcm_filters = GridspecLayout(3, 2)\n",
    "\n",
    "rcm_filters[0, 0] = rcm_beam_tog\n",
    "rcm_filters[0, 1] = rcm_beam_opt\n",
    "rcm_filters[1, 0] = rcm_polar_tog\n",
    "rcm_filters[1, 1] = rcm_polar_opt\n",
    "rcm_filters[2, 0] = rcm_lut_tog\n",
    "rcm_filters[2, 1] = rcm_lut_opt\n",
    "\n",
    "rcm_filters"
   ]
  },
  {
   "cell_type": "markdown",
   "id": "0e4eb272",
   "metadata": {},
   "source": [
    "#### Format de filtre de recherche\n",
    "\n",
    "Une fois les widgets pour les filtres développés, nous devons transformer les valeurs des widgets au format requis pour une requête SGDOT. Pour cela, les filtres sont spécifiés comme un dictionnaire, chaque filtre étant spécifié comme une clé, et les options d'un filtre étant spécifiées dans un tuple. En outre, à l'aide des boutons à Toggle que nous avons développés, nous pouvons vérifier s'ils sont actifs, en incluant uniquement les filtres qui sont spécifiés."
   ]
  },
  {
   "cell_type": "code",
   "execution_count": 11,
   "id": "ae02fbd4",
   "metadata": {},
   "outputs": [],
   "source": [
    "# function to check which radarsat-1 filters are active, and to add active filters to a dictionary for EODMS search\n",
    "def rad_filter_togs():\n",
    "    filters = {}\n",
    "    \n",
    "    if rad_sensor_tog.children[0].value:\n",
    "        filters[rad_sensor_opt.description] = ('like', rad_sensor_opt.value)\n",
    "        \n",
    "    if rad_polar_tog.children[0].value:\n",
    "        filters[rad_polar_opt.description] = ('like', rad_polar_opt.value)\n",
    "        \n",
    "    return(filters)\n",
    "\n",
    "# function to check which rcm filters are active, and to add active filters to a dictionary for EODMS search\n",
    "def rcm_filter_togs():\n",
    "    filters = {}\n",
    "    \n",
    "    if rcm_beam_tog.children[0].value:\n",
    "        filters[rcm_beam_opt.description] = ('like', rcm_beam_opt.value)\n",
    "        \n",
    "    if rcm_polar_tog.children[0].value:\n",
    "        filters[rcm_polar_opt.description] = ('like', rcm_polar_opt.value)\n",
    "        \n",
    "    if rcm_lut_tog.children[0].value:\n",
    "        filters[rcm_lut_opt.description] = ('like', rcm_lut_opt.value)\n",
    "        \n",
    "    return(filters)"
   ]
  },
  {
   "cell_type": "markdown",
   "id": "5b022c4f",
   "metadata": {},
   "source": [
    "### Glissière de la période de dates\n",
    "\n",
    "Le prochain paramètre important à inclure dans notre recherche SGDOT est un moyen d'interroger les images dans une période d'acquisition spécifiée. Tout d'abord, nous devons déterminer la période à rechercher dans les données. Pour déterminer la date la plus ancienne possible, on peut utiliser la date du lancement de RADARSAT-1, le 4 novembre 1995. Pour sélectionner la date la plus récente, nous pouvons utiliser la date d'aujourd'hui, car la mission de la Constellation RADARSAT (MCR) capture encore des images à ce jour! (au moment de la publication de ce tutoriel)<br>\n",
    "\n",
    "En utilisant les dates de début et de fin, nous pouvons utiliser une fonction utile de pandas pour créer un index de période de dates avec une fréquence d'un mois. Cet index peut ensuite être formaté à l'aide de la fonction strftime pour être affiché et mis en forme dans le style requis pour la requête de recherche SGDOT.<br>\n",
    "\n",
    "Enfin, en utilisant les options formatées ci-dessus, nous sommes en mesure de créer un glisseur de plage de sélection à partir de la bibliothèque ipywidgets.\n"
   ]
  },
  {
   "cell_type": "code",
   "execution_count": 12,
   "id": "b61171e7",
   "metadata": {},
   "outputs": [
    {
     "data": {
      "application/vnd.jupyter.widget-view+json": {
       "model_id": "176bbdcb776e4c98919a4e956a2f5756",
       "version_major": 2,
       "version_minor": 0
      },
      "text/plain": [
       "SelectionRangeSlider(description='Date Range:', index=(0, 324), layout=Layout(width='500px'), options=(('Nov 1…"
      ]
     },
     "metadata": {},
     "output_type": "display_data"
    }
   ],
   "source": [
    "import pandas as pd\n",
    "from datetime import datetime\n",
    "\n",
    "# initial and end date of the slider\n",
    "start_date = datetime(1995, 11, 4)\n",
    "end_date = datetime.today()\n",
    "\n",
    "# creates a dataframe between starting and ending dates equally iterated by month\n",
    "dates_pd = pd.date_range(start_date, end_date, freq='M')\n",
    "\n",
    "# iterates through dataframe formatting dates to a month year format for displaying, and required format for EODMS search\n",
    "options = [(date.strftime('%b %Y'), date.strftime('%Y%m%d_%H%M%S')) for date in dates_pd]\n",
    "index = (0, len(options)-1)\n",
    "\n",
    "# creation of date slider\n",
    "selection_range_slider = widgets.SelectionRangeSlider(\n",
    "    options=options,\n",
    "    index=index,\n",
    "    description='Date Range:',\n",
    "    orientation='horizontal',\n",
    "    layout={'width': '500px'}\n",
    ")\n",
    "\n",
    "display(selection_range_slider)\n",
    "\n",
    "# function to select for currently active starting and ending date of slider\n",
    "def format_date_range():\n",
    "    dates = [{\"start\": selection_range_slider.value[0], \"end\": selection_range_slider.value[1]}]"
   ]
  },
  {
   "cell_type": "markdown",
   "id": "06bf5ab1",
   "metadata": {},
   "source": [
    "### Formatage et analyse des métadonnées\n",
    "\n",
    "Maintenant que nous disposons des filtres de recherche requis, nous pouvons nous intéresser aux résultats de notre requête de recherche. L'interface RAPI du SGDOT permet de renvoyer soit un ensemble limité de résultats (raw) ou soit l'ensemble complet des résultats disponibles (full). Si vous choisissez l'ensemble limité de résultats, vous pouvez spécifier des champs supplémentaires à inclure en ajoutant un filtre de recherche de résultats. Dans le cadre de ce tutoriel, nous utiliserons l'ensemble complet de résultats.<br> \n",
    "\n",
    "L'ensemble des résultats disponibles peut être consulté ci-dessous. \n"
   ]
  },
  {
   "cell_type": "code",
   "execution_count": 13,
   "id": "fb2ae5ed",
   "metadata": {},
   "outputs": [
    {
     "name": "stdout",
     "output_type": "stream",
     "text": [
      "['Buyer Id', 'Archive Visibility Start Date', 'Client Order Item Number', 'Client Order Number', 'Client Project Name', 'Delivery Date', 'EULA Filename', 'Geographical Area', 'Notified Client Email List', 'Order Key', 'Processing Date', 'Processor Name', 'Processor Version', 'Product Datum', 'Product Ellipsoid', 'Product Id', 'Product Map Projection', 'Product Map Zone', 'Product Orientation', 'Product Type', 'Provider Id', 'Quicklook Full Name', 'SIP Size (MB)', 'Supplier Order Item Number', 'Supplier Order Number', 'Geodetic Terrain Height', 'Sampled Pixel Spacing (Panchromatic)', 'Reason', 'Collection Id', 'Title', 'Metadata Full Name', 'Owner Id', 'Public Good', 'Subcollection Id', 'Sensor Folder', 'Sensor Id', 'Sequence Id', 'Service UUID', 'Start Date', 'End Date', 'Footprint', 'EULA Url', 'Feature ID', 'Sensor', 'Metadata', 'Options', 'Orderable', 'Metadata Full URL', 'Processing Level', 'Product Format', 'Related Products', 'Look Orientation', 'Band', 'Position', 'Dataset Id', 'Image Id', 'LUT Applied', 'Absolute Orbit', 'Polarization', 'Receive Polarization', 'Sensor Mode', 'Beam', 'Segment Quality', 'Transmit Polarization', 'Incidence Angle (High)', 'Incidence Angle (Low)', 'Spatial Resolution', 'Thumbview', 'Orbit Direction', 'Overview', 'Download Link']\n"
     ]
    }
   ],
   "source": [
    "print(rapi.get_available_fields('Radarsat1', name_type='title')['results'])"
   ]
  },
  {
   "cell_type": "markdown",
   "id": "2155f92d",
   "metadata": {},
   "source": [
    "#### Formatage des métadonnées\n",
    "\n",
    "À partir de l'ensemble des résultats, nous utiliserons une sous-section de champs pour afficher des informations utiles associées à l'imagerie. Ces informations seront formatées avec du HTML simple qui sera utilisé dans une fenêtre contextuelle affichée sur la carte ipyleaflet. "
   ]
  },
  {
   "cell_type": "code",
   "execution_count": 14,
   "id": "fd34b491",
   "metadata": {},
   "outputs": [],
   "source": [
    "from ipywidgets import HTML\n",
    "\n",
    "# formats available metadata for either radarsat-1 or rcm \n",
    "def format_meta_display(collection, results):\n",
    "    \n",
    "    info = HTML()\n",
    "       \n",
    "    if collection == 'Radarsat1':\n",
    "        info.value = ('<b>Image Title: </b>' + results['title'] + \\\n",
    "        '<br /><b>Acquisition: </b>' + results['startDate'] + \\\n",
    "        '<br /><b>Beam Description: </b>' + results['beam'] + \\\n",
    "        '<br /><b>Band Description: </b>' + results['band'] + \\\n",
    "        '<br /><b>Polarization: </b>' + results['polarization'] + \\\n",
    "        '<br /><b>LUT: </b>' + results['lutApplied'])\n",
    "        \n",
    "        url = results['overviewUrl']\n",
    "    \n",
    "    elif collection == 'RCMImageProducts':\n",
    "        info.value = ('<b>Image Project: </b>' + results['clientProjectName'] + \\\n",
    "        '<br /><b>Acquisition: </b>' + results['acquisitionStartDate'] + \\\n",
    "        '<br /><b>Beam Description: </b>' + results['beamModeDescription'] + \\\n",
    "        '<br /><b>Polarization: </b>' + results['polarization'] + \\\n",
    "        '<br /><b>LUT: </b>' + results['lutApplied'])\n",
    "        \n",
    "        url = results['thumbnailUrl']\n",
    "    \n",
    "    return info, url\n",
    "\n",
    "    "
   ]
  },
  {
   "cell_type": "markdown",
   "id": "df6d3402",
   "metadata": {},
   "source": [
    "#### Analyse des métadonnées\n",
    "\n",
    "À partir des résultats, nous sélectionnerons aussi des informations sur la géométrie de l'image. Ces informations seront utilisées pour déterminer les coordonnées nord-est (en haut à droite) et sud-ouest (en bas à gauche) de l'image. Ces coordonnées seront ensuite utilisées dans les limites d'affichage de l'image satellite superposée à la carte. "
   ]
  },
  {
   "cell_type": "code",
   "execution_count": 15,
   "id": "6f8944d9",
   "metadata": {},
   "outputs": [],
   "source": [
    "def image_bounds(results):\n",
    "    \n",
    "    bounds = []\n",
    "    \n",
    "    for i in results: \n",
    "        coordinates = i['geometry']['coordinates'][0]\n",
    "        \n",
    "        # initial temp coordinates\n",
    "        max_x = coordinates[0][0]\n",
    "        min_x = coordinates[0][0]\n",
    "        max_y = coordinates[0][1]\n",
    "        min_y = coordinates[0][1]\n",
    "        \n",
    "        # iterates rather than min/max as coordinates are stored as a list of lists \n",
    "        # (alternative strategy would be creating a list of x and y coordinates, and select min/max from there)\n",
    "        for j in coordinates:\n",
    "            if max_x < j[0]:\n",
    "                max_x = j[0]\n",
    "                \n",
    "            if max_y < j[1]: \n",
    "                max_y = j[1]\n",
    "                \n",
    "            if min_x > j[0]:\n",
    "                min_x = j[0]\n",
    "                \n",
    "            if min_y > j[1]: \n",
    "                min_y = j[1]\n",
    "        \n",
    "        NE = (max_y, max_x)\n",
    "        SW = (min_y, min_x)\n",
    "        # format required for EODMS search\n",
    "        temp_bounds = {'NE': NE, 'SW': SW}\n",
    "        bounds.append(temp_bounds)\n",
    "        \n",
    "    return bounds\n",
    "        "
   ]
  },
  {
   "cell_type": "markdown",
   "id": "c49cc1c1",
   "metadata": {},
   "source": [
    "### Opacité de l'image\n",
    "\n",
    "L'un des derniers widgets que nous allons développer est une option permettant de modifier l'opacité des images affichées. Ce widget sera similaire à celui de notre filtre de dates de données, car nous développons un glisseur, mais cette fois-ci, nous utiliserons le widget float slider d'ipywidgets. Pour cela, nous devons définir les valeurs min, max et le niveau de notre valeur. Nous utiliserons une plage de 0 à 1, 0 représentant la transparence totale et 1 l'opacité totale. Ensuite, nous allons également créer un simple widget de liste descendante pour sélectionner l'image superposée que nous souhaitons modifier.<br> \n",
    "\n",
    "Une fois ces widgets développés, nous les ferons passer par la fonction interactive avec l'option de sélection manuelle activée pour que les images sélectionnées soient mises à jour au moment voulu.  \n"
   ]
  },
  {
   "cell_type": "code",
   "execution_count": 16,
   "id": "972913c2",
   "metadata": {},
   "outputs": [
    {
     "data": {
      "application/vnd.jupyter.widget-view+json": {
       "model_id": "fbd3bd3ca4b6408299c8583191acf319",
       "version_major": 2,
       "version_minor": 0
      },
      "text/plain": [
       "interactive(children=(FloatSlider(value=1.0, description='Opacity:', max=1.0, step=0.01), Dropdown(description…"
      ]
     },
     "metadata": {},
     "output_type": "display_data"
    }
   ],
   "source": [
    "from ipywidgets import FloatSlider\n",
    "\n",
    "# function to update image opacity with value x if images are available of value y\n",
    "def update_opacity(x, y):\n",
    "    if y == 'No Image': \n",
    "        display('No Images Available to Update')\n",
    "    else:\n",
    "        m.layers[y].opacity = x\n",
    "\n",
    "# float widget with slider between 0-1 \n",
    "opacity_slider = widgets.FloatSlider(\n",
    "    description='Opacity:', \n",
    "    min=0, \n",
    "    max=1, \n",
    "    step=0.01, \n",
    "    value=1\n",
    ")     \n",
    "\n",
    "# widget to select which image to update\n",
    "image_list = widgets.Dropdown(\n",
    "    options=['No Image'],\n",
    "    description='Image:',\n",
    "    disabled=False,\n",
    ")\n",
    "\n",
    "# interactive widget to only trigger when the update image button is clicked\n",
    "image_opacity = interactive(update_opacity, {'manual': True}, x=opacity_slider, y=image_list)\n",
    "image_opacity.children[2].description = 'Update Image'\n",
    "\n",
    "image_opacity"
   ]
  },
  {
   "cell_type": "markdown",
   "id": "222fe4c2",
   "metadata": {},
   "source": [
    "#### Mise à jour de la liste des images \n",
    "\n",
    "Comme vous l'avez peut-être remarqué ci-dessus, notre liste d'images ne contient aucune image ! Par conséquent, nous allons développer une certaine logique pour rechercher des images chaque fois que la carte est mise à jour avec une nouvelle superposition d'images satellites. "
   ]
  },
  {
   "cell_type": "code",
   "execution_count": 17,
   "id": "d2c2ced7",
   "metadata": {},
   "outputs": [],
   "source": [
    "from ipyleaflet import ImageOverlay\n",
    "\n",
    "# function to update available images for opacity update\n",
    "def update_image_list(): \n",
    "    image_names = []\n",
    "    image_idx = []\n",
    "\n",
    "    # getting image overlay class from ipyleaflet\n",
    "    image_class = type(ImageOverlay())\n",
    "\n",
    "    # enumerates for all available map layers in ipyleaflet map\n",
    "    for idx, i in enumerate(m.layers):\n",
    "        # if a layer is of the imageoverlay class, appends the index and name of that particular layer to a list\n",
    "        if isinstance(i, image_class):\n",
    "            image_names.append(i.name)\n",
    "            image_idx.append(idx)\n",
    "\n",
    "    image_options = []\n",
    "\n",
    "    # combines image names and image indexes in a tuple \n",
    "    for i, j in zip(image_names, image_idx):\n",
    "        image_options.append((i, j))\n",
    "\n",
    "    # if no images on map, sets image options to no image\n",
    "    if len(image_options) == 0: \n",
    "        image_options=['No Image']\n",
    "\n",
    "    # updates the image list widget with the update names\n",
    "    image_opacity.children[1].options = image_options"
   ]
  },
  {
   "cell_type": "markdown",
   "id": "cff7fd93",
   "metadata": {},
   "source": [
    "## Visualisation et création de la carte \n",
    "\n",
    "La dernière étape de ce tutoriel consistera à combiner tous les widgets ci-dessus et les critères de recherche en une carte interactive et recherchable ! Nous utiliserons la bibliothèque ipyleaflet comme affichage principal pour cette section. Ce package permet de créer et d'afficher rapidement des cartes, comme illustré ci-dessous."
   ]
  },
  {
   "cell_type": "code",
   "execution_count": 18,
   "id": "ff706304",
   "metadata": {},
   "outputs": [
    {
     "data": {
      "application/vnd.jupyter.widget-view+json": {
       "model_id": "ccb7376fada04382af9f8117c4889026",
       "version_major": 2,
       "version_minor": 0
      },
      "text/plain": [
       "Map(center=[45.520261, -73.393618], controls=(AttributionControl(options=['position', 'prefix'], position='bot…"
      ]
     },
     "metadata": {},
     "output_type": "display_data"
    }
   ],
   "source": [
    "from ipyleaflet import basemaps, Map, SearchControl, ZoomControl, DrawControl,\\\n",
    "FullScreenControl, Marker, AwesomeIcon, LayersControl\n",
    "\n",
    "center = [45.520261, -73.393618\n",
    "m = Map(basemap=basemaps.Esri.WorldStreetMap, center=center, zoom=3, zoom_control=False)\n",
    "display(m)"
   ]
  },
  {
   "cell_type": "markdown",
   "id": "edf2b69f",
   "metadata": {},
   "source": [
    "### Logique de recherche d'images\n",
    "\n",
    "Afin de développer une expérience interactive robuste, nous devons mettre au point un ensemble de logiques permettant d'attraper une variété de conditions et de paramètres de recherche différents. Cela peut sembler compliqué à première vue, cependant, une grande partie de la définition de la fonction consiste à exécuter la même fonction de recherche SGDOT que nous avions développée au début du tutoriel. "
   ]
  },
  {
   "cell_type": "code",
   "execution_count": 19,
   "id": "efa22af2",
   "metadata": {},
   "outputs": [],
   "source": [
    "# search logic function \n",
    "from ipyleaflet import Popup\n",
    "from IPython.display import clear_output\n",
    "\n",
    "# function with inputs of if the search or draw was used, and relavent search parameters for EODMS\n",
    "def image_map_search(search_bool, draw_bool, collections, filters = {}, dates = [], max_num = 1):\n",
    "    \n",
    "    file = open('credentials.txt')\n",
    "    temp = file.read().splitlines()\n",
    "    \n",
    "    # clearing previous image and geometry layers (popups, pins, etc) on map\n",
    "    for i in range(len(m.layers[2:])): \n",
    "        m.remove_layer(m.layers[-1])\n",
    "    \n",
    "    # checking if both radarsat-1 & rcm were active in collections radio widget, and performing search required amount of times\n",
    "    if len(collections) == 1:\n",
    "        search_conditions(search_bool, draw_bool, collections[0], filters, dates = dates, max_num = 1)\n",
    "        \n",
    "    elif len(collections) == 2: \n",
    "        search_conditions(search_bool, draw_bool, collections[0], filters[0], dates = dates, max_num = 1)\n",
    "        search_conditions(search_bool, draw_bool, collections[1], filters[1], dates = dates, max_num = 1)\n",
    "\n",
    "    # clearing drawn polygons\n",
    "    draw_control.clear()\n",
    "    # clearing drawn geometry\n",
    "    feature_collection['features'].clear()\n",
    "\n",
    "        \n",
    "def search_conditions(search_bool, draw_bool, collection, filters = {}, dates = [], max_num = 1):    \n",
    "    # search process if location search was used\n",
    "    if search_bool[0] and not draw_bool[0]: \n",
    "        # formatting geometry for EODMS search\n",
    "        search_geo = [('intersects', {'type': 'Point', 'coordinates': [search_location[0][1], search_location[0][0]]})]\n",
    "        print('Image Search Using Searched Location')\n",
    "\n",
    "        # executing EODMS search\n",
    "        results = eodms_search(temp[0], temp[1], collection, search_geo, filters = filters, dates = dates, max_results = max_num)\n",
    "        bounds = image_bounds(results)\n",
    "        \n",
    "        if len(results) == 0:\n",
    "            print('\\nNo Satellite Images Were Found')\n",
    "            return -1\n",
    "\n",
    "        # for the amount of results returned\n",
    "        for j in range(len(results)):\n",
    "            \n",
    "            # formatting metadata for image display\n",
    "            info, url = format_meta_display(collection, results[j])\n",
    "            \n",
    "            # creation of new image layer of satellite imagery\n",
    "            image = ImageOverlay(\n",
    "                url = url,\n",
    "                bounds = (bounds[j]['SW'], bounds[j]['NE']),\n",
    "                name = collection + ' ' + str(j + 1)\n",
    "            )\n",
    "\n",
    "            m.add_layer(image)\n",
    "            \n",
    "            # marker to display popup metadata about the displayed imagery\n",
    "            marker = Marker(location = bounds[j]['NE'], icon=AwesomeIcon(name=\"info\", marker_color='darkblue', icon_color='white'),\\\n",
    "                  draggable=False, name=(collection + ' Info ' + str(j + 1)))\n",
    "            m.add_layer(marker)\n",
    "            # formatted metadata for the popup when clicked\n",
    "            marker.popup = info\n",
    "\n",
    "        return 0\n",
    "\n",
    "    # search process if drawn geometry was used\n",
    "    elif draw_bool[0] and not search_bool[0]: \n",
    "        draw_geo = []\n",
    "        # selecting geometry from drawn features\n",
    "        for i in range(len(feature_collection['features'])):\n",
    "            temp_geo = [('intersects', feature_collection['features'][i]['geometry'])]\n",
    "            draw_geo.append(temp_geo)\n",
    "        print('Image Search Using Drawn Location')\n",
    "\n",
    "        for i in range(len(draw_geo)):\n",
    "            # executing EODMS search\n",
    "            results = eodms_search(temp[0], temp[1], collection, draw_geo[i], filters = filters, dates = dates, max_results = max_num)\n",
    "            bounds = image_bounds(results) \n",
    "\n",
    "            try: results\n",
    "            # catch if the same geometry was used but cleared \n",
    "            except NameError: \n",
    "                print('\\nPlease Use New Geometry or Retry Geometry')\n",
    "                return -1\n",
    "\n",
    "            if len(results) == 0:\n",
    "                print('\\nNo Satellite Images Were Found')\n",
    "                return -1\n",
    "\n",
    "            for j in range(len(results)):\n",
    "                info, url = format_meta_display(collection, results[j])\n",
    "                \n",
    "                image = ImageOverlay(\n",
    "                    url = url,\n",
    "                    bounds = (bounds[j]['SW'], bounds[j]['NE']),\n",
    "                    name = collection + ' ' + str(i) + '-' + str(j)\n",
    "                )\n",
    "\n",
    "                m.add_layer(image)\n",
    "                \n",
    "                marker = Marker(location = bounds[j]['NE'], icon=AwesomeIcon(name=\"info\", marker_color='darkblue', icon_color='white'),\\\n",
    "                      draggable=False, name=(collection + ' Info ' + str(i) + '-' + str(j)))\n",
    "                m.add_layer(marker)\n",
    "                                \n",
    "                marker.popup = info\n",
    "                \n",
    "        return 0 \n",
    "\n",
    "    # catch for other errors or conditions \n",
    "    else:\n",
    "        print('Searchable Geometry was not Provided or an Error Occured')\n",
    "        return -1\n"
   ]
  },
  {
   "cell_type": "markdown",
   "id": "a0b358c8",
   "metadata": {},
   "source": [
    "### Bouton de recherche  \n",
    "\n",
    "Une fois les critères de recherche élaborés, nous allons créer notre widget final, à savoir un bouton de recherche pour exécuter les critères de recherche ci-dessus. "
   ]
  },
  {
   "cell_type": "code",
   "execution_count": 20,
   "id": "3e9a905b",
   "metadata": {},
   "outputs": [],
   "source": [
    "# function to execute the search criteria when the search button is clicked\n",
    "def execute_search(obj):\n",
    "    # clears console prints\n",
    "    clear_output()\n",
    "    # redisplays the map and widgets\n",
    "    display(m)  \n",
    "    display(tab_nest)\n",
    "\n",
    "    # formats the daterange slider for use in EODMS search\n",
    "    date_range = format_date_range()\n",
    "    \n",
    "    # conditions for which collection is selected, calls function to create filter dictionary, and calls the search criteria\n",
    "    if search_collection.value == 'Radarsat-1':\n",
    "        rad_filter_dict = rad_filter_togs()\n",
    "        image_map_search(search_bool, draw_bool, ['Radarsat1'], filters = rad_filter_dict, dates = date_range, max_num = 1)\n",
    "\n",
    "    elif search_collection.value == 'RCM Images':\n",
    "        rcm_filter_dict = rcm_filter_togs()\n",
    "        image_map_search(search_bool, draw_bool, ['RCMImageProducts'], filters = rcm_filter_dict, dates = date_range, max_num = 1)\n",
    "\n",
    "    elif search_collection.value == 'Radarsat-1 & RCM':\n",
    "        rad_filter_dict = rad_filter_togs()\n",
    "        rcm_filter_dict = rcm_filter_togs()\n",
    "        image_map_search(search_bool, draw_bool, ['Radarsat1', 'RCMImageProducts'], filters = [rad_filter_dict, rcm_filter_dict],\\\n",
    "                         dates = date_range, max_num = 1)\n",
    "\n",
    "    # updates image list for image opacity slider \n",
    "    update_image_list() \n",
    "    print('Image Search Complete')\n",
    "\n",
    "# creation of search button widget\n",
    "search_button = widgets.Button(description = \"Search\")\n",
    "    \n",
    "# executes the above function when the button is clicked\n",
    "search_button.on_click(execute_search)"
   ]
  },
  {
   "cell_type": "markdown",
   "id": "20f66d86",
   "metadata": {},
   "source": [
    "### Combinaison de widgets\n",
    "\n",
    "Les widgets associés à la recherche développée seront placés dans un modèle de mise en page de l'application. Il s'agit d'un modèle similaire à la grille utilisée précédemment, avec un style différent en termes de taille. "
   ]
  },
  {
   "cell_type": "code",
   "execution_count": 21,
   "id": "f70f6ce2",
   "metadata": {},
   "outputs": [],
   "source": [
    "from ipywidgets import AppLayout, Layout\n",
    "\n",
    "search_layout = AppLayout(header=None,\n",
    "          left_sidebar=search_button,\n",
    "          center=search_collection,\n",
    "          right_sidebar=image_opacity,\n",
    "          footer=selection_range_slider,\n",
    "          pane_widths=[1, 2, 2])"
   ]
  },
  {
   "cell_type": "markdown",
   "id": "416971e2",
   "metadata": {},
   "source": [
    "#### Mise en page de l'onglet\n",
    "\n",
    "Une fois tous les boutons développés, nous allons les combiner dans une disposition en onglet. Cela nous permettra de changer entre les différentes options de filtre disponibles."
   ]
  },
  {
   "cell_type": "code",
   "execution_count": 22,
   "id": "9900741c",
   "metadata": {},
   "outputs": [],
   "source": [
    "tab_nest = widgets.Tab()\n",
    "tab_nest.children = [search_layout, radsat_filters, rcm_filters]\n",
    "tab_nest.set_title(0, 'Search Tab')\n",
    "tab_nest.set_title(1, 'Radarsat-1 Filters')\n",
    "tab_nest.set_title(2, 'RCM Image Filters')"
   ]
  },
  {
   "cell_type": "markdown",
   "id": "97d0a220",
   "metadata": {},
   "source": [
    "### Création de la carte\n",
    "\n",
    "Finalement, nous allons construire la carte que nous utiliserons pour afficher l'imagerie satellite. Un élément important de cette carte sera l'extraction d'informations géospatiales à utiliser dans les critères de recherche du SGDOT. Nous chercherons à développer deux options pour générer des critères de recherche géospatiaux, soit par l'utilisation d'une barre de recherche, soit par le dessin de marqueurs et de polygones sur la carte elle-même. "
   ]
  },
  {
   "cell_type": "code",
   "execution_count": 23,
   "id": "df16b28f",
   "metadata": {},
   "outputs": [],
   "source": [
    "from ipyleaflet import basemaps, Map, SearchControl, ZoomControl, DrawControl,\\\n",
    "FullScreenControl, Marker, AwesomeIcon, LayersControl\n",
    "\n",
    "# creation of map with specified center and basemap, zoom controsl set to false to reposition it later on\n",
    "center = [45.520261, -73.393618]\n",
    "m = Map(basemap=basemaps.Esri.WorldStreetMap, center=center, zoom=3, zoom_control=False)\n",
    "\n",
    "# adding fullscreen and zoom controls to map\n",
    "m.add_control(FullScreenControl(position='topright'))\n",
    "m.add_control(ZoomControl(position='topleft'))\n",
    "\n",
    "# setting a marker for the Canadian Space Agency Headquarters in Saint-Hubert\n",
    "headquarters = Marker(location = center, icon=AwesomeIcon(name=\"space-shuttle\", marker_color='darkblue', icon_color='white'), draggable=False,\\\n",
    "                     name='Headquarters')\n",
    "\n",
    "m.add_layer(headquarters);\n",
    "\n",
    "# marker style to display when a searched location is found\n",
    "marker = Marker(icon=AwesomeIcon(name=\"globe\", marker_color='green', icon_color='darkgreen'), draggable=False)\n",
    "\n",
    "search = SearchControl(\n",
    "    position = \"topleft\",\n",
    "    url = 'https://nominatim.openstreetmap.org/search?format=json&q={s}?',\n",
    "    zoom = 10,\n",
    "    marker = marker\n",
    ")\n",
    "\n",
    "m.add_control(search)\n",
    "\n",
    "# list for if location search or drawn geometry is used\n",
    "search_bool = [{}]\n",
    "draw_bool = [{}]\n",
    "\n",
    "search_location = [{}]\n",
    "\n",
    "# function to execute when the location search with input of variable unpackable dictionary item from the loaction search\n",
    "def on_found(**kwargs):\n",
    "    # coodinates of searched location\n",
    "    search_location[0] = kwargs['location']\n",
    "    # logic to set that location search was used\n",
    "    search_bool[0] = True\n",
    "    draw_bool[0] = False\n",
    "    # clears previously drawn features\n",
    "    draw_control.clear()\n",
    "    feature_collection['features'].clear()\n",
    "    marker.visible = True\n",
    "\n",
    "search.on_location_found(on_found)\n",
    "\n",
    "\n",
    "\n",
    "draw_control = DrawControl(\n",
    "position = 'bottomleft'\n",
    ")\n",
    "\n",
    "# drawn features dictionary in geojson foramt\n",
    "feature_collection = {\n",
    "    'type': 'FeatureCollection',\n",
    "    'features': []\n",
    "}\n",
    "\n",
    "\n",
    "def handle_draw(self, action, geo_json):\n",
    "    # updates the drawn geometry list\n",
    "    feature_collection['features'].append(geo_json)\n",
    "    # updates the search logic\n",
    "    search_bool[0] = False\n",
    "    draw_bool[0] = True\n",
    "    marker.visible = False\n",
    "\n",
    "# executes function following drawing\n",
    "draw_control.on_draw(handle_draw)\n",
    "\n",
    "m.add_control(draw_control)\n",
    "\n",
    "# adds controls to choose which layers to display\n",
    "layers_control = LayersControl(position='bottomright')\n",
    "m.add_control(layers_control)"
   ]
  },
  {
   "cell_type": "markdown",
   "id": "9f533a35",
   "metadata": {},
   "source": [
    "La dernière étape consiste maintenant à afficher la carte et les widgets disponibles que nous avons créés ! Vous avez maintenant la possibilité d'explorer et de rechercher les images satellites disponibles. "
   ]
  },
  {
   "cell_type": "code",
   "execution_count": 24,
   "id": "e14c8d72",
   "metadata": {},
   "outputs": [
    {
     "data": {
      "application/vnd.jupyter.widget-view+json": {
       "model_id": "b33ebc1783014c17848fa339b132bd19",
       "version_major": 2,
       "version_minor": 0
      },
      "text/plain": [
       "Map(center=[45.520261, -73.393618], controls=(AttributionControl(options=['position', 'prefix'], position='bot…"
      ]
     },
     "metadata": {},
     "output_type": "display_data"
    },
    {
     "data": {
      "application/vnd.jupyter.widget-view+json": {
       "model_id": "2e5ab4d3ce984796ab257abe7a8b294a",
       "version_major": 2,
       "version_minor": 0
      },
      "text/plain": [
       "Tab(children=(AppLayout(children=(SelectionRangeSlider(description='Date Range:', index=(0, 324), layout=Layou…"
      ]
     },
     "metadata": {},
     "output_type": "display_data"
    },
    {
     "name": "stdout",
     "output_type": "stream",
     "text": [
      "Searchable Geometry was not Provided or an Error Occured\n",
      "Image Search Complete\n"
     ]
    }
   ],
   "source": [
    "display(m)  \n",
    "display(tab_nest)"
   ]
  }
 ],
 "metadata": {
  "kernelspec": {
   "display_name": "Python [conda env:radrcm_env]",
   "language": "python",
   "name": "conda-env-radrcm_env-py"
  },
  "language_info": {
   "codemirror_mode": {
    "name": "ipython",
    "version": 3
   },
   "file_extension": ".py",
   "mimetype": "text/x-python",
   "name": "python",
   "nbconvert_exporter": "python",
   "pygments_lexer": "ipython3",
   "version": "3.11.0"
  }
 },
 "nbformat": 4,
 "nbformat_minor": 5
}
