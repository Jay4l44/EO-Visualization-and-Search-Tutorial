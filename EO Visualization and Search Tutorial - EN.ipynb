{
 "cells": [
  {
   "cell_type": "markdown",
   "id": "fd5ad170",
   "metadata": {},
   "source": [
    "# Earth Observation Search & Visualization Tutorial\n",
    "\n",
    "**Tutorial:** This tutorial covers techniques in the search and display of satellite imagery of RADARSAT-1 & RCM with the EODMS REST API<br>\n",
    "**Mission & Instrument:** RADARSAT-1 & RADARSAT Constellation Mission (RCM)<br>\n",
    "**Astronomical Target:** Earth Observation<br>\n",
    "**Data:** Satellite Imagery from EODMS<br>\n",
    "**Primary Tools:** ipywidgets, ipyleaflet, EODMS REST API (RAPI)<br>\n",
    "**System Requirements:** Minimum 4 GB RAM<br>\n",
    "**Tutorial Level:** Intermediate<br> \n",
    "\n",
    "### Imports\n",
    "\n",
    "- [EODMS RAPI](https://py-eodms-rapi.readthedocs.io/en/latest/search-rapi.html): A REST API client for creating search queries for EODMS.\n",
    "- [ipyleaflet](https://ipyleaflet.readthedocs.io/en/latest/): A library for creating interactive maps in Jupyter Notebooks based on the popular JavaScript library Leaflet. \n",
    "- [ipywidgets](https://ipywidgets.readthedocs.io/en/7.7.0/): A library for creating interactive buttons and widgets in Jupyter Notebooks. \n",
    "- [Pandas](https://pandas.pydata.org/): A popular data analysis and manipulation library.\n",
    "\n",
    "## Background Information \n",
    "\n",
    "RADARSAT-1 provided Canada and the world with an advanced synthetic aperture radar (SAR) platform capable of acquiring images of the Earth through a variety of conditions including cloud cover, smoke, haze, during day and at night. This powerful satellite imagery was invaluable in numerous applications including environmental monitoring, ice observation, agriculture, and more! This information also proved useful in disaster management such as floods, earthquakes, forest fires and even oil spills.<br>\n",
    "\n",
    "The RADARSAT Constellation Mission (RCM) was the next generation of the RADARSAT Program, offering improved quality, quantity and coverage of 90% of Earth’s surface. This was accomplished by offering three satellites that were evenly spaced on the same orbital altitude of 600km.<br>\n",
    "\n",
    "With RCM expected to take approximately 250,000 images per year, and RADARSAT-1 capturing over 710,000 publically available images over its lifetime, a robust data management system is required to distribute this data. This service is provided by the Earth Observation Data Management System (EODMS) managed by Natural Resources Canada (NRCan). This service provides the ability to search and download a variety of imagery products. This tutorial will look to use this service through its accompanying REST API to search and display satellite imagery from RARDARSAT-1 and RCM on an interactive map.<br><br>\n",
    "\n",
    "## EODMS Account Creation and Initialization\n",
    "\n",
    "To use the EODMS RAPI, an account is required. This can be done by following this [link](https://www.eodms-sgdot.nrcan-rncan.gc.ca/index-en.html) and selecting register. Once an account has been created, please replace your username and password in the accompanying credentials file associated with this tutorial. \n"
   ]
  },
  {
   "cell_type": "code",
   "execution_count": 1,
   "id": "342a19fa",
   "metadata": {},
   "outputs": [],
   "source": [
    "from eodms_rapi import EODMSRAPI\n",
    "\n",
    "# external file for credentials\n",
    "file = open('credentials.txt')\n",
    "temp = file.read().splitlines()\n",
    "\n",
    "rapi = EODMSRAPI(temp[0], temp[1])"
   ]
  },
  {
   "cell_type": "markdown",
   "id": "701bd464",
   "metadata": {},
   "source": [
    "### EODMS Search Template\n",
    "\n",
    "EODMS offers a couple different tools to access their service, including a [command line interface (CLI)](https://github.com/eodms-sgdot/eodms-cli), a [web-browser interface](https://www.eodms-sgdot.nrcan-rncan.gc.ca/index-en.html) and the [python compatible RAPI](https://github.com/eodms-sgdot/py-eodms-rapi). Using this library, we will develop the general structure for creating search queries for EODMS."
   ]
  },
  {
   "cell_type": "code",
   "execution_count": 2,
   "id": "b0cdd9ef",
   "metadata": {},
   "outputs": [],
   "source": [
    "def eodms_search(user, password, collection, features, filters = {}, dates = [], max_results = 1): \n",
    "    \n",
    "    # using a username and password, initializes a connection to EODMS\n",
    "    rapi = EODMSRAPI(user, password)\n",
    "    \n",
    "    # available options for EDOMS search\n",
    "    rapi.search(collection, filters = filters, features = features, \n",
    "                dates = dates, max_results = max_results)\n",
    "    \n",
    "    raw_res = rapi.get_results('full')\n",
    "    results = raw_res\n",
    "    \n",
    "    \n",
    "    return results"
   ]
  },
  {
   "cell_type": "markdown",
   "id": "1d451018",
   "metadata": {},
   "source": [
    "### EODMS Filter List\n",
    "\n",
    "As can be seen above, there are several parameters that can be specified when executing a search with EODMS. This includes search criteria such as the date, geometric features, data filters, and the collection. In the course of this tutorial, we will cover each of these filters in-detail and develop associated widgets through the ipywidgets library to interact with these filters. \n",
    "\n",
    "#### EODMS Collection\n",
    "\n",
    "This begins with the collection parameter. This parameter specifies which satellite mission or aerial photos to be searched. The list of available collections can be determined using the following command. "
   ]
  },
  {
   "cell_type": "code",
   "execution_count": 3,
   "id": "2dd9ef52",
   "metadata": {},
   "outputs": [
    {
     "name": "stdout",
     "output_type": "stream",
     "text": [
      "| EODMSRAPI | 2022-12-16 01:56:34 | Getting Collection information, please wait...\n",
      "['NAPL', 'SGBAirPhotos', 'RCMImageProducts', 'Radarsat1', 'Radarsat1RawProducts', 'Radarsat2RawProducts']\n"
     ]
    }
   ],
   "source": [
    "print(rapi.get_collections(as_list=True))"
   ]
  },
  {
   "cell_type": "markdown",
   "id": "b4dad612",
   "metadata": {},
   "source": [
    "As described at the start of the tutorial, we will be using the RADARSAT-1 and RCM image products. More information on the [National Air Photo Library (NAPL)](https://www.nrcan.gc.ca/maps-tools-and-publications/satellite-imagery-and-air-photos/air-photos/national-air-photo-library/9265) and [RADARSAT-2](https://www.asc-csa.gc.ca/eng/satellites/radarsat2/) can be found with their respective links.<br> \n",
    "\n",
    "As we have a list of options available, and we want users to only select a single option, a radio button is a [good choice](https://designsystem.digital.gov/components/radio-buttons/) for this particular widget. This can be created with the following.\n"
   ]
  },
  {
   "cell_type": "code",
   "execution_count": 4,
   "id": "79e47eb5",
   "metadata": {},
   "outputs": [
    {
     "data": {
      "application/vnd.jupyter.widget-view+json": {
       "model_id": "a2373180e69b4409b879bb41579c7111",
       "version_major": 2,
       "version_minor": 0
      },
      "text/plain": [
       "RadioButtons(description='Collection:', options=('Radarsat-1', 'RCM Images', 'Radarsat-1 & RCM'), value='Radar…"
      ]
     },
     "metadata": {},
     "output_type": "display_data"
    }
   ],
   "source": [
    "import ipywidgets as widgets\n",
    "\n",
    "# creates an instance of a radio button through the ipywidgets library\n",
    "search_collection = widgets.RadioButtons(\n",
    "    options=['Radarsat-1', 'RCM Images', 'Radarsat-1 & RCM'],\n",
    "    description='Collection:',\n",
    "    disabled=False\n",
    ")\n",
    "\n",
    "search_collection"
   ]
  },
  {
   "cell_type": "markdown",
   "id": "5e8b0421",
   "metadata": {},
   "source": [
    "Widgets from the ipywidget library have many helpful attributes and methods available. A helpful attribute in our context is the value of the widget that can be accessed as follows. "
   ]
  },
  {
   "cell_type": "code",
   "execution_count": 5,
   "id": "89dd8356",
   "metadata": {},
   "outputs": [
    {
     "data": {
      "text/plain": [
       "'Radarsat-1'"
      ]
     },
     "execution_count": 5,
     "metadata": {},
     "output_type": "execute_result"
    }
   ],
   "source": [
    "search_collection.value"
   ]
  },
  {
   "cell_type": "markdown",
   "id": "8a6356cd",
   "metadata": {},
   "source": [
    "### EODMS Search Filters\n",
    "\n",
    "Next, we will focus on the available filters for EODMS. These filters are different for each collection, and specify the majority of available options when querying a search with EODMS. These options include several important filters including items such as the sensor mode or configuration, the type of polarization used the satellites position and more.<br>\n",
    "\n",
    "We can generate a full list of the available search filters using the following command. "
   ]
  },
  {
   "cell_type": "code",
   "execution_count": 6,
   "id": "c5ea1d32",
   "metadata": {
    "scrolled": true
   },
   "outputs": [
    {
     "name": "stdout",
     "output_type": "stream",
     "text": [
      "['Orbit Direction', 'Open Data', 'Client Order Number', 'Order Key', 'Product Format', 'Product Id', 'Product Orientation', 'Product Type', 'Sampled Pixel Spacing (Panchromatic)', 'Catalog Visibility Start', 'Collection Id', 'Creation Date', 'Loading Status', 'Owner Id', 'Public Good', 'Subcollection Id', 'Sequence Id', 'Start Date', 'Status', 'End Date', 'UUID', 'Processing Level', 'Look Orientation', 'Beam Id', 'Position', 'Dataset Id', 'Image Id', 'Incidence Angle', 'Absolute Orbit', 'Receive Polarization', 'Sensor Mode', 'Transmit Polarization', 'Incidence Angle (High)', 'Incidence Angle (Low)', 'Spatial Resolution', 'Footprint']\n"
     ]
    }
   ],
   "source": [
    "print(rapi.get_available_fields('Radarsat1', name_type='title')['search'])"
   ]
  },
  {
   "cell_type": "markdown",
   "id": "16b3b731",
   "metadata": {},
   "source": [
    "To see the available options for a particular filter, we can generate the available field choices using the following command. "
   ]
  },
  {
   "cell_type": "code",
   "execution_count": 7,
   "id": "56cb0895",
   "metadata": {
    "scrolled": true
   },
   "outputs": [
    {
     "name": "stdout",
     "output_type": "stream",
     "text": [
      "['Fine', 'High Incidence', 'Low Incidence', 'ScanSAR Narrow', 'ScanSAR Wide', 'Standard', 'Wide']\n"
     ]
    }
   ],
   "source": [
    "print(rapi.get_field_choices('Radarsat1', 'Sensor Mode'))"
   ]
  },
  {
   "cell_type": "markdown",
   "id": "3b9ef0d4",
   "metadata": {},
   "source": [
    "Now knowing the available filters and their options, we can begin to develop a set of widgets to interact with these filters. However, as we may not always want certain filters always active, we will also include a toggle widget to select when a given filter is active. This can be accomplished using the [interactive](https://ipywidgets.readthedocs.io/en/7.7.0/examples/Using%20Interact.html) module of the ipywidget library. This will allow us to execute a specified function when a given widget is interacted with.\n",
    "\n",
    "#### Selected RADARSAT-1 Filters \n",
    "For Radarsat-1 we will use the Sensor Mode, and Transmit Polarization options, with their filters values being selected from the list created from the above function. We will use the Dropdown widget as there may be several options available to select."
   ]
  },
  {
   "cell_type": "code",
   "execution_count": 8,
   "id": "31fbe5b2",
   "metadata": {},
   "outputs": [
    {
     "data": {
      "application/vnd.jupyter.widget-view+json": {
       "model_id": "25598e1f0b59404cbfb03c12dd9cd1a9",
       "version_major": 2,
       "version_minor": 0
      },
      "text/plain": [
       "GridspecLayout(children=(interactive(children=(Checkbox(value=False, description='Use Filter', indent=False), …"
      ]
     },
     "metadata": {},
     "output_type": "display_data"
    }
   ],
   "source": [
    "from ipywidgets import interactive, GridspecLayout\n",
    "\n",
    "#---- Beam Mode Widgets\n",
    "\n",
    "# creates an instance of a checkbox widget\n",
    "t1 = widgets.Checkbox(\n",
    "    value=False,\n",
    "    description='Use Filter',\n",
    "    disabled=False,\n",
    "    indent=False\n",
    ")\n",
    "\n",
    "# function to disable the dropdown widget containing filter options\n",
    "def rad_sensor_f(x):\n",
    "    rad_sensor_opt.disabled = not x\n",
    "\n",
    "# using the created widget & function, can pass through interactive to have function trigger on action \n",
    "rad_sensor_tog = interactive(rad_sensor_f, x = t1);\n",
    "\n",
    "# dropdown widget with available beam mode options \n",
    "rad_sensor_opt = widgets.Dropdown(\n",
    "    options=['Fine', 'High Incidence', 'Low Incidence', 'ScanSAR Narrow', 'ScanSAR Wide', 'Standard', 'Wide'],\n",
    "    description='Sensor Mode',\n",
    "    disabled=True\n",
    ")\n",
    "\n",
    "#---- Polarization Widgets (same processes as described above)\n",
    "\n",
    "t2 = widgets.Checkbox(\n",
    "    value=False,\n",
    "    description='Use Filter',\n",
    "    disabled=False,\n",
    "    indent=False\n",
    ")\n",
    "\n",
    "def rad_polar_f(x):\n",
    "    rad_polar_opt.disabled = not x\n",
    "    \n",
    "rad_polar_tog = interactive(rad_polar_f, x = t2);\n",
    "\n",
    "rad_polar_opt = widgets.Dropdown(\n",
    "    options=['H', 'H+V', 'V', 'V+H'],\n",
    "    description='Transmit Polarization',\n",
    "    disabled=True\n",
    ")\n",
    "\n",
    "\n",
    "#---- Combination of Widgets in a Grid Spacing\n",
    "\n",
    "radsat_filters = GridspecLayout(2, 2)\n",
    "radsat_filters[0,0] = rad_sensor_tog\n",
    "radsat_filters[0,1] = rad_sensor_opt\n",
    "radsat_filters[1,0] = rad_polar_tog\n",
    "radsat_filters[1,1] = rad_polar_opt\n",
    "\n",
    "radsat_filters"
   ]
  },
  {
   "cell_type": "markdown",
   "id": "8bdeb2ec",
   "metadata": {},
   "source": [
    "We will repeat the same order of operations for the available RCM filters. This starts with exploring the available RCM filters.  "
   ]
  },
  {
   "cell_type": "code",
   "execution_count": 9,
   "id": "93c6e2ef",
   "metadata": {
    "scrolled": true
   },
   "outputs": [
    {
     "name": "stdout",
     "output_type": "stream",
     "text": [
      "Available Filters:\n",
      "['Orbit Data Source', 'Special Handling Required', 'Client Order Number', 'Order Key', 'Polarization', 'Product Id', 'Product Orientation', 'Product Type', 'Sampled Pixel Spacing (Panchromatic)', 'Collection Id', 'Loading Status', 'Open Data', 'Owner Id', 'Public Good', 'Subcollection Id', 'Sequence Id', 'Acquisition Start Date', 'Status', 'Acquisition End Date', 'UUID', 'Processing Level', 'Look Direction', 'Beam Id', 'Beam Mnemonic', 'Dataset Id', 'Downlink segment ID', 'Incidence Angle', 'Absolute Orbit', 'Orbit Direction', 'Relative Orbit', 'Beam Mode Type', 'Within Orbital Tube', 'Incidence Angle (High)', 'Incidence Angle (Low)', 'Spatial Resolution', 'Beam Mode Qualifier', 'Order Purpose', 'Product Format', 'LUT Applied', 'Creation Date', 'Processing Date', 'Footprint']\n",
      "\n",
      "Beam Mode Type Filter Options:\n",
      "['High Resolution 5m', 'Low Noise', 'Low Resolution 100m', 'Medium Resolution 16m', 'Medium Resolution 30m', 'Medium Resolution 50m', 'Quad-Polarization', 'Ship Detection', 'Spotlight', 'Very High Resolution 3m']\n"
     ]
    }
   ],
   "source": [
    "print('Available Filters:')\n",
    "print(rapi.get_available_fields('RCMImageProducts', name_type='title')['search'])\n",
    "print('\\nBeam Mode Type Filter Options:')\n",
    "print(rapi.get_field_choices('RCMImageProducts', 'Beam Mode Type'))"
   ]
  },
  {
   "cell_type": "markdown",
   "id": "7fe8d6fb",
   "metadata": {},
   "source": [
    "#### Selected RCM Filters \n",
    "\n",
    "A similar set of filters will be used for RCM queries with the addition of the Look Up Table (LUT) filter. This filter specifies the pre-applied color mapping associated with a given satellite image. Different LUTs can be very useful when working with satellite imagery. They help to highlight certain spectral traits of an image such as making ice or vegetation appear brighter on an image. "
   ]
  },
  {
   "cell_type": "code",
   "execution_count": 10,
   "id": "3d6d11d9",
   "metadata": {},
   "outputs": [
    {
     "data": {
      "application/vnd.jupyter.widget-view+json": {
       "model_id": "ae9d371f0f2c411ba971a83e3218a23d",
       "version_major": 2,
       "version_minor": 0
      },
      "text/plain": [
       "GridspecLayout(children=(interactive(children=(Checkbox(value=False, description='Use Filter', indent=False), …"
      ]
     },
     "metadata": {},
     "output_type": "display_data"
    }
   ],
   "source": [
    "#---- Beam Mode Widgets\n",
    "\n",
    "t3 = widgets.Checkbox(\n",
    "    value=False,\n",
    "    description='Use Filter',\n",
    "    disabled=False,\n",
    "    indent=False\n",
    ")\n",
    "\n",
    "def rcm_beam_f(x):\n",
    "    rcm_beam_opt.disabled = not x\n",
    "    \n",
    "rcm_beam_tog = interactive(rcm_beam_f, x = t3);\n",
    "         \n",
    "rcm_beam_opt = widgets.Dropdown(\n",
    "    options=['High Resolution 5m', 'Low Noise', 'Low Resolution 100m', 'Medium Resolution 16m', 'Medium Resolution 30m',\\\n",
    "             'Medium Resolution 50m', 'Quad-Polarization', 'Ship Detection', 'Spotlight', 'Very High Resolution 3m'],\n",
    "    description='Beam Mode Type',\n",
    "    disabled = True\n",
    ")\n",
    "\n",
    "#---- Polarization Widgets\n",
    "\n",
    "t4 = widgets.Checkbox(\n",
    "    value=False,\n",
    "    description='Use Filter',\n",
    "    disabled=False,\n",
    "    indent=False\n",
    ")\n",
    "\n",
    "def rcm_polar_f(x):\n",
    "    rcm_polar_opt.disabled = not x\n",
    "    \n",
    "rcm_polar_tog = interactive(rcm_polar_f, x = t4);\n",
    "         \n",
    "rcm_polar_opt = widgets.Dropdown(\n",
    "    options=['CH CV', 'HH', 'HH HV', 'HH HV VH VV', 'HH VV', 'HV', 'VH', 'VH VV', 'VV'],\n",
    "    description='Polarization',\n",
    "    disabled = True\n",
    ")\n",
    "\n",
    "#---- Look Up Table Widgets \n",
    "\n",
    "t5 = widgets.Checkbox(\n",
    "    value=False,\n",
    "    description='Use Filter',\n",
    "    disabled=False,\n",
    "    indent=False\n",
    ")\n",
    "\n",
    "def rcm_lut_f(x):\n",
    "    rcm_lut_opt.disabled = not x\n",
    "    \n",
    "rcm_lut_tog = interactive(rcm_lut_f, x = t5);\n",
    "         \n",
    "rcm_lut_opt = widgets.Dropdown(\n",
    "    options=['Ice', 'Mixed', 'Point Target', 'Ship-1', 'Land', 'Constant-beta', 'Constant-gamma', 'Constant-sigma',\\\n",
    "             'Point Target-1', 'Point Target-2', 'Sea', 'Ship-2', 'Ship-3', 'Unity', 'Unity-beta', 'Unity-gamma', 'Unity-sigma'],\n",
    "    description='LUT Applied',\n",
    "    disabled = True\n",
    ")\n",
    "\n",
    "\n",
    "#---- Combination of Widgets in a Grid Spacing\n",
    "\n",
    "rcm_filters = GridspecLayout(3, 2)\n",
    "\n",
    "rcm_filters[0, 0] = rcm_beam_tog\n",
    "rcm_filters[0, 1] = rcm_beam_opt\n",
    "rcm_filters[1, 0] = rcm_polar_tog\n",
    "rcm_filters[1, 1] = rcm_polar_opt\n",
    "rcm_filters[2, 0] = rcm_lut_tog\n",
    "rcm_filters[2, 1] = rcm_lut_opt\n",
    "\n",
    "rcm_filters"
   ]
  },
  {
   "cell_type": "markdown",
   "id": "0e4eb272",
   "metadata": {},
   "source": [
    "#### Search Filter Formatting\n",
    "\n",
    "With the widgets for filters developed, we need to transform the values of the widgets to the required format for an EODMS query. For this, filters are specified as a dictionary, with each filter specified as a key, and the options for a filter specified in a tuple. Additionally, using the toggles we developed, we can check if they are active, only including filters that are specified. "
   ]
  },
  {
   "cell_type": "code",
   "execution_count": 11,
   "id": "ae02fbd4",
   "metadata": {},
   "outputs": [],
   "source": [
    "# function to check which radarsat-1 filters are active, and to add active filters to a dictionary for EODMS search\n",
    "def rad_filter_togs():\n",
    "    filters = {}\n",
    "    \n",
    "    if rad_sensor_tog.children[0].value:\n",
    "        filters[rad_sensor_opt.description] = ('like', rad_sensor_opt.value)\n",
    "        \n",
    "    if rad_polar_tog.children[0].value:\n",
    "        filters[rad_polar_opt.description] = ('like', rad_polar_opt.value)\n",
    "        \n",
    "    return(filters)\n",
    "\n",
    "# function to check which rcm filters are active, and to add active filters to a dictionary for EODMS search\n",
    "def rcm_filter_togs():\n",
    "    filters = {}\n",
    "    \n",
    "    if rcm_beam_tog.children[0].value:\n",
    "        filters[rcm_beam_opt.description] = ('like', rcm_beam_opt.value)\n",
    "        \n",
    "    if rcm_polar_tog.children[0].value:\n",
    "        filters[rcm_polar_opt.description] = ('like', rcm_polar_opt.value)\n",
    "        \n",
    "    if rcm_lut_tog.children[0].value:\n",
    "        filters[rcm_lut_opt.description] = ('like', rcm_lut_opt.value)\n",
    "        \n",
    "    return(filters)"
   ]
  },
  {
   "cell_type": "markdown",
   "id": "5b022c4f",
   "metadata": {},
   "source": [
    "### Date Range Slider\n",
    "\n",
    "The next important parameter to include in our EODMS search is a way to query for images in a specified acquisition date range. First, we must determine the range to search within the data. To determine the earliest possible date to search, this can correspond to the launch of RADARSAT-1 in November 4, 1995. To select the latest date, we can use today’s date, as the RADARSAT Constellation Mission (RCM) is still capturing imagery to this day! (as of the publishing of this tutorial)<br>\n",
    "\n",
    "Using the starting and ending dates, we can use a helpful function from pandas to create a date range index with a frequency of a month. This can be subsequently formatted using the strftime function for displaying and formatting in the required style for the EODMS search query.<br>\n",
    "\n",
    "Lastly, using the above formatted options, we are able to create a selection range slider from the ipywidgets library. \n"
   ]
  },
  {
   "cell_type": "code",
   "execution_count": 12,
   "id": "b61171e7",
   "metadata": {},
   "outputs": [
    {
     "data": {
      "application/vnd.jupyter.widget-view+json": {
       "model_id": "176bbdcb776e4c98919a4e956a2f5756",
       "version_major": 2,
       "version_minor": 0
      },
      "text/plain": [
       "SelectionRangeSlider(description='Date Range:', index=(0, 324), layout=Layout(width='500px'), options=(('Nov 1…"
      ]
     },
     "metadata": {},
     "output_type": "display_data"
    }
   ],
   "source": [
    "import pandas as pd\n",
    "from datetime import datetime\n",
    "\n",
    "# initial and end date of the slider\n",
    "start_date = datetime(1995, 11, 4)\n",
    "end_date = datetime.today()\n",
    "\n",
    "# creates a dataframe between starting and ending dates equally iterated by month\n",
    "dates_pd = pd.date_range(start_date, end_date, freq='M')\n",
    "\n",
    "# iterates through dataframe formatting dates to a month year format for displaying, and required format for EODMS search\n",
    "options = [(date.strftime('%b %Y'), date.strftime('%Y%m%d_%H%M%S')) for date in dates_pd]\n",
    "index = (0, len(options)-1)\n",
    "\n",
    "# creation of date slider\n",
    "selection_range_slider = widgets.SelectionRangeSlider(\n",
    "    options=options,\n",
    "    index=index,\n",
    "    description='Date Range:',\n",
    "    orientation='horizontal',\n",
    "    layout={'width': '500px'}\n",
    ")\n",
    "\n",
    "display(selection_range_slider)\n",
    "\n",
    "# function to select for currently active starting and ending date of slider\n",
    "def format_date_range():\n",
    "    dates = [{\"start\": selection_range_slider.value[0], \"end\": selection_range_slider.value[1]}]"
   ]
  },
  {
   "cell_type": "markdown",
   "id": "06bf5ab1",
   "metadata": {},
   "source": [
    "### Metadata Formatting & Analysis\n",
    "\n",
    "Now that we have the required search filters, our attention can turn to the results from our search query. The EODMS RAPI has either the option of returning a limited set of available fields (raw), or the full set of available fields (full). If selecting the limited set of results, additional fields can be specified to be included through the addition of a results search filter. For the course of this tutorial we will use the full set of results.<br> \n",
    "\n",
    "The full set of available results can be seen below. \n"
   ]
  },
  {
   "cell_type": "code",
   "execution_count": 13,
   "id": "fb2ae5ed",
   "metadata": {},
   "outputs": [
    {
     "name": "stdout",
     "output_type": "stream",
     "text": [
      "['Buyer Id', 'Archive Visibility Start Date', 'Client Order Item Number', 'Client Order Number', 'Client Project Name', 'Delivery Date', 'EULA Filename', 'Geographical Area', 'Notified Client Email List', 'Order Key', 'Processing Date', 'Processor Name', 'Processor Version', 'Product Datum', 'Product Ellipsoid', 'Product Id', 'Product Map Projection', 'Product Map Zone', 'Product Orientation', 'Product Type', 'Provider Id', 'Quicklook Full Name', 'SIP Size (MB)', 'Supplier Order Item Number', 'Supplier Order Number', 'Geodetic Terrain Height', 'Sampled Pixel Spacing (Panchromatic)', 'Reason', 'Collection Id', 'Title', 'Metadata Full Name', 'Owner Id', 'Public Good', 'Subcollection Id', 'Sensor Folder', 'Sensor Id', 'Sequence Id', 'Service UUID', 'Start Date', 'End Date', 'Footprint', 'EULA Url', 'Feature ID', 'Sensor', 'Metadata', 'Options', 'Orderable', 'Metadata Full URL', 'Processing Level', 'Product Format', 'Related Products', 'Look Orientation', 'Band', 'Position', 'Dataset Id', 'Image Id', 'LUT Applied', 'Absolute Orbit', 'Polarization', 'Receive Polarization', 'Sensor Mode', 'Beam', 'Segment Quality', 'Transmit Polarization', 'Incidence Angle (High)', 'Incidence Angle (Low)', 'Spatial Resolution', 'Thumbview', 'Orbit Direction', 'Overview', 'Download Link']\n"
     ]
    }
   ],
   "source": [
    "print(rapi.get_available_fields('Radarsat1', name_type='title')['results'])"
   ]
  },
  {
   "cell_type": "markdown",
   "id": "2155f92d",
   "metadata": {},
   "source": [
    "#### Metadata Formatting\n",
    "\n",
    "From the full set of results, we will use a subsection of fields to display useful information associated with the imagery. This will be formatted with some simple HTML that will be used in a popup displayed through the ipyleaflet map. "
   ]
  },
  {
   "cell_type": "code",
   "execution_count": 14,
   "id": "fd34b491",
   "metadata": {},
   "outputs": [],
   "source": [
    "from ipywidgets import HTML\n",
    "\n",
    "# formats available metadata for either radarsat-1 or rcm \n",
    "def format_meta_display(collection, results):\n",
    "    \n",
    "    info = HTML()\n",
    "       \n",
    "    if collection == 'Radarsat1':\n",
    "        info.value = ('<b>Image Title: </b>' + results['title'] + \\\n",
    "        '<br /><b>Acquisition: </b>' + results['startDate'] + \\\n",
    "        '<br /><b>Beam Description: </b>' + results['beam'] + \\\n",
    "        '<br /><b>Band Description: </b>' + results['band'] + \\\n",
    "        '<br /><b>Polarization: </b>' + results['polarization'] + \\\n",
    "        '<br /><b>LUT: </b>' + results['lutApplied'])\n",
    "        \n",
    "        url = results['overviewUrl']\n",
    "    \n",
    "    elif collection == 'RCMImageProducts':\n",
    "        info.value = ('<b>Image Project: </b>' + results['clientProjectName'] + \\\n",
    "        '<br /><b>Acquisition: </b>' + results['acquisitionStartDate'] + \\\n",
    "        '<br /><b>Beam Description: </b>' + results['beamModeDescription'] + \\\n",
    "        '<br /><b>Polarization: </b>' + results['polarization'] + \\\n",
    "        '<br /><b>LUT: </b>' + results['lutApplied'])\n",
    "        \n",
    "        url = results['thumbnailUrl']\n",
    "    \n",
    "    return info, url\n",
    "\n",
    "    "
   ]
  },
  {
   "cell_type": "markdown",
   "id": "df6d3402",
   "metadata": {},
   "source": [
    "#### Metadata Analysis\n",
    "\n",
    "From the results, we will also select information about the images geometry. This will be used to determine the North East (upper right), and South West (bottom left) coordinates of the image. This will be subsequently used in the display bounds of the satellite image overlay for the map. "
   ]
  },
  {
   "cell_type": "code",
   "execution_count": 15,
   "id": "6f8944d9",
   "metadata": {},
   "outputs": [],
   "source": [
    "def image_bounds(results):\n",
    "    \n",
    "    bounds = []\n",
    "    \n",
    "    for i in results: \n",
    "        coordinates = i['geometry']['coordinates'][0]\n",
    "        \n",
    "        # initial temp coordinates\n",
    "        max_x = coordinates[0][0]\n",
    "        min_x = coordinates[0][0]\n",
    "        max_y = coordinates[0][1]\n",
    "        min_y = coordinates[0][1]\n",
    "        \n",
    "        # iterates rather than min/max as coordinates are stored as a list of lists \n",
    "        # (alternative strategy would be creating a list of x and y coordinates, and select min/max from there)\n",
    "        for j in coordinates:\n",
    "            if max_x < j[0]:\n",
    "                max_x = j[0]\n",
    "                \n",
    "            if max_y < j[1]: \n",
    "                max_y = j[1]\n",
    "                \n",
    "            if min_x > j[0]:\n",
    "                min_x = j[0]\n",
    "                \n",
    "            if min_y > j[1]: \n",
    "                min_y = j[1]\n",
    "        \n",
    "        NE = (max_y, max_x)\n",
    "        SW = (min_y, min_x)\n",
    "        # format required for EODMS search\n",
    "        temp_bounds = {'NE': NE, 'SW': SW}\n",
    "        bounds.append(temp_bounds)\n",
    "        \n",
    "    return bounds\n",
    "        "
   ]
  },
  {
   "cell_type": "markdown",
   "id": "c49cc1c1",
   "metadata": {},
   "source": [
    "### Image Opacity\n",
    "\n",
    "One of the last widgets that we will develop is an option to change the opacity of the displayed images. This widget will be similar to that of our data range filter as we are developing a slider, however, this time we will use the float slider widget from ipywidgets. This requires us to set the min, max and step amount of our value. We will use a range of 0 -1 with 0 representing completely transparent and 1 as completely opaque. Next we will also create a simple drop down widget to select which overlaid image we wish to update.<br> \n",
    "\n",
    "With these widgets developed, we will pass them through the interactive function with the manual selection option enabled to update the selected images when desired.  \n"
   ]
  },
  {
   "cell_type": "code",
   "execution_count": 16,
   "id": "972913c2",
   "metadata": {},
   "outputs": [
    {
     "data": {
      "application/vnd.jupyter.widget-view+json": {
       "model_id": "fbd3bd3ca4b6408299c8583191acf319",
       "version_major": 2,
       "version_minor": 0
      },
      "text/plain": [
       "interactive(children=(FloatSlider(value=1.0, description='Opacity:', max=1.0, step=0.01), Dropdown(description…"
      ]
     },
     "metadata": {},
     "output_type": "display_data"
    }
   ],
   "source": [
    "from ipywidgets import FloatSlider\n",
    "\n",
    "# function to update image opacity with value x if images are available of value y\n",
    "def update_opacity(x, y):\n",
    "    if y == 'No Image': \n",
    "        display('No Images Available to Update')\n",
    "    else:\n",
    "        m.layers[y].opacity = x\n",
    "\n",
    "# float widget with slider between 0-1 \n",
    "opacity_slider = widgets.FloatSlider(\n",
    "    description='Opacity:', \n",
    "    min=0, \n",
    "    max=1, \n",
    "    step=0.01, \n",
    "    value=1\n",
    ")     \n",
    "\n",
    "# widget to select which image to update\n",
    "image_list = widgets.Dropdown(\n",
    "    options=['No Image'],\n",
    "    description='Image:',\n",
    "    disabled=False,\n",
    ")\n",
    "\n",
    "# interactive widget to only trigger when the update image button is clicked\n",
    "image_opacity = interactive(update_opacity, {'manual': True}, x=opacity_slider, y=image_list)\n",
    "image_opacity.children[2].description = 'Update Image'\n",
    "\n",
    "image_opacity"
   ]
  },
  {
   "cell_type": "markdown",
   "id": "222fe4c2",
   "metadata": {},
   "source": [
    "#### Image List Update \n",
    "\n",
    "As you may have recognized from above, our image list does not have any images! Therefore, we will develop some logic to search for images each time the map is updated with a new satellite image overlay. "
   ]
  },
  {
   "cell_type": "code",
   "execution_count": 17,
   "id": "d2c2ced7",
   "metadata": {},
   "outputs": [],
   "source": [
    "from ipyleaflet import ImageOverlay\n",
    "\n",
    "# function to update available images for opacity update\n",
    "def update_image_list(): \n",
    "    image_names = []\n",
    "    image_idx = []\n",
    "\n",
    "    # getting image overlay class from ipyleaflet\n",
    "    image_class = type(ImageOverlay())\n",
    "\n",
    "    # enumerates for all available map layers in ipyleaflet map\n",
    "    for idx, i in enumerate(m.layers):\n",
    "        # if a layer is of the imageoverlay class, appends the index and name of that particular layer to a list\n",
    "        if isinstance(i, image_class):\n",
    "            image_names.append(i.name)\n",
    "            image_idx.append(idx)\n",
    "\n",
    "    image_options = []\n",
    "\n",
    "    # combines image names and image indexes in a tuple \n",
    "    for i, j in zip(image_names, image_idx):\n",
    "        image_options.append((i, j))\n",
    "\n",
    "    # if no images on map, sets image options to no image\n",
    "    if len(image_options) == 0: \n",
    "        image_options=['No Image']\n",
    "\n",
    "    # updates the image list widget with the update names\n",
    "    image_opacity.children[1].options = image_options"
   ]
  },
  {
   "cell_type": "markdown",
   "id": "cff7fd93",
   "metadata": {},
   "source": [
    "## Map Visualization and Creation \n",
    "The last stage of this tutorial will be combining all of the above widgets, and search criteria into an interactive and searchable map! We will be using the ipyleaflet library as our primary display for this section. This package can quickly create and display maps as seen below."
   ]
  },
  {
   "cell_type": "code",
   "execution_count": 18,
   "id": "ff706304",
   "metadata": {},
   "outputs": [
    {
     "data": {
      "application/vnd.jupyter.widget-view+json": {
       "model_id": "ccb7376fada04382af9f8117c4889026",
       "version_major": 2,
       "version_minor": 0
      },
      "text/plain": [
       "Map(center=[45.520261, -73.393618], controls=(AttributionControl(options=['position', 'prefix'], position='bot…"
      ]
     },
     "metadata": {},
     "output_type": "display_data"
    }
   ],
   "source": [
    "from ipyleaflet import basemaps, Map, SearchControl, ZoomControl, DrawControl,\\\n",
    "FullScreenControl, Marker, AwesomeIcon, LayersControl\n",
    "\n",
    "center = [45.520261, -73.393618\n",
    "m = Map(basemap=basemaps.Esri.WorldStreetMap, center=center, zoom=3, zoom_control=False)\n",
    "display(m)"
   ]
  },
  {
   "cell_type": "markdown",
   "id": "edf2b69f",
   "metadata": {},
   "source": [
    "### Image Search Logic\n",
    "\n",
    "In-order to develop a robust interactive experience, we have to develop a set of logic to catch a variety of different conditions and search parameters. This can look complicated from first glance, however, much of the function definition is executing the same EODMS search function that we had developed at the start of the tutorial. "
   ]
  },
  {
   "cell_type": "code",
   "execution_count": 19,
   "id": "efa22af2",
   "metadata": {},
   "outputs": [],
   "source": [
    "# search logic function \n",
    "from ipyleaflet import Popup\n",
    "from IPython.display import clear_output\n",
    "\n",
    "# function with inputs of if the search or draw was used, and relavent search parameters for EODMS\n",
    "def image_map_search(search_bool, draw_bool, collections, filters = {}, dates = [], max_num = 1):\n",
    "    \n",
    "    file = open('credentials.txt')\n",
    "    temp = file.read().splitlines()\n",
    "    \n",
    "    # clearing previous image and geometry layers (popups, pins, etc) on map\n",
    "    for i in range(len(m.layers[2:])): \n",
    "        m.remove_layer(m.layers[-1])\n",
    "    \n",
    "    # checking if both radarsat-1 & rcm were active in collections radio widget, and performing search required amount of times\n",
    "    if len(collections) == 1:\n",
    "        search_conditions(search_bool, draw_bool, collections[0], filters, dates = dates, max_num = 1)\n",
    "        \n",
    "    elif len(collections) == 2: \n",
    "        search_conditions(search_bool, draw_bool, collections[0], filters[0], dates = dates, max_num = 1)\n",
    "        search_conditions(search_bool, draw_bool, collections[1], filters[1], dates = dates, max_num = 1)\n",
    "\n",
    "    # clearing drawn polygons\n",
    "    draw_control.clear()\n",
    "    # clearing drawn geometry\n",
    "    feature_collection['features'].clear()\n",
    "\n",
    "        \n",
    "def search_conditions(search_bool, draw_bool, collection, filters = {}, dates = [], max_num = 1):    \n",
    "    # search process if location search was used\n",
    "    if search_bool[0] and not draw_bool[0]: \n",
    "        # formatting geometry for EODMS search\n",
    "        search_geo = [('intersects', {'type': 'Point', 'coordinates': [search_location[0][1], search_location[0][0]]})]\n",
    "        print('Image Search Using Searched Location')\n",
    "\n",
    "        # executing EODMS search\n",
    "        results = eodms_search(temp[0], temp[1], collection, search_geo, filters = filters, dates = dates, max_results = max_num)\n",
    "        bounds = image_bounds(results)\n",
    "        \n",
    "        if len(results) == 0:\n",
    "            print('\\nNo Satellite Images Were Found')\n",
    "            return -1\n",
    "\n",
    "        # for the amount of results returned\n",
    "        for j in range(len(results)):\n",
    "            \n",
    "            # formatting metadata for image display\n",
    "            info, url = format_meta_display(collection, results[j])\n",
    "            \n",
    "            # creation of new image layer of satellite imagery\n",
    "            image = ImageOverlay(\n",
    "                url = url,\n",
    "                bounds = (bounds[j]['SW'], bounds[j]['NE']),\n",
    "                name = collection + ' ' + str(j + 1)\n",
    "            )\n",
    "\n",
    "            m.add_layer(image)\n",
    "            \n",
    "            # marker to display popup metadata about the displayed imagery\n",
    "            marker = Marker(location = bounds[j]['NE'], icon=AwesomeIcon(name=\"info\", marker_color='darkblue', icon_color='white'),\\\n",
    "                  draggable=False, name=(collection + ' Info ' + str(j + 1)))\n",
    "            m.add_layer(marker)\n",
    "            # formatted metadata for the popup when clicked\n",
    "            marker.popup = info\n",
    "\n",
    "        return 0\n",
    "\n",
    "    # search process if drawn geometry was used\n",
    "    elif draw_bool[0] and not search_bool[0]: \n",
    "        draw_geo = []\n",
    "        # selecting geometry from drawn features\n",
    "        for i in range(len(feature_collection['features'])):\n",
    "            temp_geo = [('intersects', feature_collection['features'][i]['geometry'])]\n",
    "            draw_geo.append(temp_geo)\n",
    "        print('Image Search Using Drawn Location')\n",
    "\n",
    "        for i in range(len(draw_geo)):\n",
    "            # executing EODMS search\n",
    "            results = eodms_search(temp[0], temp[1], collection, draw_geo[i], filters = filters, dates = dates, max_results = max_num)\n",
    "            bounds = image_bounds(results) \n",
    "\n",
    "            try: results\n",
    "            # catch if the same geometry was used but cleared \n",
    "            except NameError: \n",
    "                print('\\nPlease Use New Geometry or Retry Geometry')\n",
    "                return -1\n",
    "\n",
    "            if len(results) == 0:\n",
    "                print('\\nNo Satellite Images Were Found')\n",
    "                return -1\n",
    "\n",
    "            for j in range(len(results)):\n",
    "                info, url = format_meta_display(collection, results[j])\n",
    "                \n",
    "                image = ImageOverlay(\n",
    "                    url = url,\n",
    "                    bounds = (bounds[j]['SW'], bounds[j]['NE']),\n",
    "                    name = collection + ' ' + str(i) + '-' + str(j)\n",
    "                )\n",
    "\n",
    "                m.add_layer(image)\n",
    "                \n",
    "                marker = Marker(location = bounds[j]['NE'], icon=AwesomeIcon(name=\"info\", marker_color='darkblue', icon_color='white'),\\\n",
    "                      draggable=False, name=(collection + ' Info ' + str(i) + '-' + str(j)))\n",
    "                m.add_layer(marker)\n",
    "                                \n",
    "                marker.popup = info\n",
    "                \n",
    "        return 0 \n",
    "\n",
    "    # catch for other errors or conditions \n",
    "    else:\n",
    "        print('Searchable Geometry was not Provided or an Error Occured')\n",
    "        return -1\n"
   ]
  },
  {
   "cell_type": "markdown",
   "id": "a0b358c8",
   "metadata": {},
   "source": [
    "### Search Button \n",
    "\n",
    "With the search criteria developed, we will create our final widget being a search button to execute the above search criteria. "
   ]
  },
  {
   "cell_type": "code",
   "execution_count": 20,
   "id": "3e9a905b",
   "metadata": {},
   "outputs": [],
   "source": [
    "# function to execute the search criteria when the search button is clicked\n",
    "def execute_search(obj):\n",
    "    # clears console prints\n",
    "    clear_output()\n",
    "    # redisplays the map and widgets\n",
    "    display(m)  \n",
    "    display(tab_nest)\n",
    "\n",
    "    # formats the daterange slider for use in EODMS search\n",
    "    date_range = format_date_range()\n",
    "    \n",
    "    # conditions for which collection is selected, calls function to create filter dictionary, and calls the search criteria\n",
    "    if search_collection.value == 'Radarsat-1':\n",
    "        rad_filter_dict = rad_filter_togs()\n",
    "        image_map_search(search_bool, draw_bool, ['Radarsat1'], filters = rad_filter_dict, dates = date_range, max_num = 1)\n",
    "\n",
    "    elif search_collection.value == 'RCM Images':\n",
    "        rcm_filter_dict = rcm_filter_togs()\n",
    "        image_map_search(search_bool, draw_bool, ['RCMImageProducts'], filters = rcm_filter_dict, dates = date_range, max_num = 1)\n",
    "\n",
    "    elif search_collection.value == 'Radarsat-1 & RCM':\n",
    "        rad_filter_dict = rad_filter_togs()\n",
    "        rcm_filter_dict = rcm_filter_togs()\n",
    "        image_map_search(search_bool, draw_bool, ['Radarsat1', 'RCMImageProducts'], filters = [rad_filter_dict, rcm_filter_dict],\\\n",
    "                         dates = date_range, max_num = 1)\n",
    "\n",
    "    # updates image list for image opacity slider \n",
    "    update_image_list() \n",
    "    print('Image Search Complete')\n",
    "\n",
    "# creation of search button widget\n",
    "search_button = widgets.Button(description = \"Search\")\n",
    "    \n",
    "# executes the above function when the button is clicked\n",
    "search_button.on_click(execute_search)"
   ]
  },
  {
   "cell_type": "markdown",
   "id": "20f66d86",
   "metadata": {},
   "source": [
    "### Combination of Widgets\n",
    "The developed search associated widgets will be put in an app layout template. This is similar to the grid layout used previously, with different styling in terms of sizing. "
   ]
  },
  {
   "cell_type": "code",
   "execution_count": 21,
   "id": "f70f6ce2",
   "metadata": {},
   "outputs": [],
   "source": [
    "from ipywidgets import AppLayout, Layout\n",
    "\n",
    "search_layout = AppLayout(header=None,\n",
    "          left_sidebar=search_button,\n",
    "          center=search_collection,\n",
    "          right_sidebar=image_opacity,\n",
    "          footer=selection_range_slider,\n",
    "          pane_widths=[1, 2, 2])"
   ]
  },
  {
   "cell_type": "markdown",
   "id": "416971e2",
   "metadata": {},
   "source": [
    "#### Tab Layout\n",
    "With all of the buttons developed, we will combine them in a tab layout. This will allow us to switch between the different filter options available. "
   ]
  },
  {
   "cell_type": "code",
   "execution_count": 22,
   "id": "9900741c",
   "metadata": {},
   "outputs": [],
   "source": [
    "tab_nest = widgets.Tab()\n",
    "tab_nest.children = [search_layout, radsat_filters, rcm_filters]\n",
    "tab_nest.set_title(0, 'Search Tab')\n",
    "tab_nest.set_title(1, 'Radarsat-1 Filters')\n",
    "tab_nest.set_title(2, 'RCM Image Filters')"
   ]
  },
  {
   "cell_type": "markdown",
   "id": "97d0a220",
   "metadata": {},
   "source": [
    "### Map Creation\n",
    "\n",
    "Finally, we will construct the map that we will use to display the satellite imagery. An important element of this map will be extracted geospatial information to use in the search criteria in EODMS. We will look to develop two options for generating geospatial search criteria, either through the use of a search bar, or through drawing markers and polygons on the map itself. "
   ]
  },
  {
   "cell_type": "code",
   "execution_count": 23,
   "id": "df16b28f",
   "metadata": {},
   "outputs": [],
   "source": [
    "from ipyleaflet import basemaps, Map, SearchControl, ZoomControl, DrawControl,\\\n",
    "FullScreenControl, Marker, AwesomeIcon, LayersControl\n",
    "\n",
    "# creation of map with specified center and basemap, zoom controsl set to false to reposition it later on\n",
    "center = [45.520261, -73.393618]\n",
    "m = Map(basemap=basemaps.Esri.WorldStreetMap, center=center, zoom=3, zoom_control=False)\n",
    "\n",
    "# adding fullscreen and zoom controls to map\n",
    "m.add_control(FullScreenControl(position='topright'))\n",
    "m.add_control(ZoomControl(position='topleft'))\n",
    "\n",
    "# setting a marker for the Canadian Space Agency Headquarters in Saint-Hubert\n",
    "headquarters = Marker(location = center, icon=AwesomeIcon(name=\"space-shuttle\", marker_color='darkblue', icon_color='white'), draggable=False,\\\n",
    "                     name='Headquarters')\n",
    "\n",
    "m.add_layer(headquarters);\n",
    "\n",
    "# marker style to display when a searched location is found\n",
    "marker = Marker(icon=AwesomeIcon(name=\"globe\", marker_color='green', icon_color='darkgreen'), draggable=False)\n",
    "\n",
    "search = SearchControl(\n",
    "    position = \"topleft\",\n",
    "    url = 'https://nominatim.openstreetmap.org/search?format=json&q={s}?',\n",
    "    zoom = 10,\n",
    "    marker = marker\n",
    ")\n",
    "\n",
    "m.add_control(search)\n",
    "\n",
    "# list for if location search or drawn geometry is used\n",
    "search_bool = [{}]\n",
    "draw_bool = [{}]\n",
    "\n",
    "search_location = [{}]\n",
    "\n",
    "# function to execute when the location search with input of variable unpackable dictionary item from the loaction search\n",
    "def on_found(**kwargs):\n",
    "    # coodinates of searched location\n",
    "    search_location[0] = kwargs['location']\n",
    "    # logic to set that location search was used\n",
    "    search_bool[0] = True\n",
    "    draw_bool[0] = False\n",
    "    # clears previously drawn features\n",
    "    draw_control.clear()\n",
    "    feature_collection['features'].clear()\n",
    "    marker.visible = True\n",
    "\n",
    "search.on_location_found(on_found)\n",
    "\n",
    "\n",
    "\n",
    "draw_control = DrawControl(\n",
    "position = 'bottomleft'\n",
    ")\n",
    "\n",
    "# drawn features dictionary in geojson foramt\n",
    "feature_collection = {\n",
    "    'type': 'FeatureCollection',\n",
    "    'features': []\n",
    "}\n",
    "\n",
    "\n",
    "def handle_draw(self, action, geo_json):\n",
    "    # updates the drawn geometry list\n",
    "    feature_collection['features'].append(geo_json)\n",
    "    # updates the search logic\n",
    "    search_bool[0] = False\n",
    "    draw_bool[0] = True\n",
    "    marker.visible = False\n",
    "\n",
    "# executes function following drawing\n",
    "draw_control.on_draw(handle_draw)\n",
    "\n",
    "m.add_control(draw_control)\n",
    "\n",
    "# adds controls to choose which layers to display\n",
    "layers_control = LayersControl(position='bottomright')\n",
    "m.add_control(layers_control)"
   ]
  },
  {
   "cell_type": "markdown",
   "id": "9f533a35",
   "metadata": {},
   "source": [
    "The last step now is to display the map and the available widgets that we created! Now is your chance to explore and search available satellite imagery. "
   ]
  },
  {
   "cell_type": "code",
   "execution_count": 24,
   "id": "e14c8d72",
   "metadata": {},
   "outputs": [
    {
     "data": {
      "application/vnd.jupyter.widget-view+json": {
       "model_id": "b33ebc1783014c17848fa339b132bd19",
       "version_major": 2,
       "version_minor": 0
      },
      "text/plain": [
       "Map(center=[45.520261, -73.393618], controls=(AttributionControl(options=['position', 'prefix'], position='bot…"
      ]
     },
     "metadata": {},
     "output_type": "display_data"
    },
    {
     "data": {
      "application/vnd.jupyter.widget-view+json": {
       "model_id": "2e5ab4d3ce984796ab257abe7a8b294a",
       "version_major": 2,
       "version_minor": 0
      },
      "text/plain": [
       "Tab(children=(AppLayout(children=(SelectionRangeSlider(description='Date Range:', index=(0, 324), layout=Layou…"
      ]
     },
     "metadata": {},
     "output_type": "display_data"
    },
    {
     "name": "stdout",
     "output_type": "stream",
     "text": [
      "Searchable Geometry was not Provided or an Error Occured\n",
      "Image Search Complete\n"
     ]
    }
   ],
   "source": [
    "display(m)  \n",
    "display(tab_nest)"
   ]
  }
 ],
 "metadata": {
  "kernelspec": {
   "display_name": "Python [conda env:radrcm_env]",
   "language": "python",
   "name": "conda-env-radrcm_env-py"
  },
  "language_info": {
   "codemirror_mode": {
    "name": "ipython",
    "version": 3
   },
   "file_extension": ".py",
   "mimetype": "text/x-python",
   "name": "python",
   "nbconvert_exporter": "python",
   "pygments_lexer": "ipython3",
   "version": "3.11.0"
  }
 },
 "nbformat": 4,
 "nbformat_minor": 5
}
